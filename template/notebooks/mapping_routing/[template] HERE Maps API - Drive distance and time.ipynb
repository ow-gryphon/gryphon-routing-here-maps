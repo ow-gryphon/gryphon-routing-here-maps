{
 "cells": [
  {
   "cell_type": "markdown",
   "id": "d9d378bf",
   "metadata": {
    "toc": true
   },
   "source": [
    "<h1>Table of Contents<span class=\"tocSkip\"></span></h1>\n",
    "<div class=\"toc\"><ul class=\"toc-item\"><li><span><a href=\"#Drive-distance-and-Drive-time-calculations-(and-walking-time)\" data-toc-modified-id=\"Drive-distance-and-Drive-time-calculations-(and-walking-time)-1\"><span class=\"toc-item-num\">1&nbsp;&nbsp;</span>Drive distance and Drive time calculations (and walking time)</a></span><ul class=\"toc-item\"><li><span><a href=\"#Setting-up-a-HERE-Maps-account\" data-toc-modified-id=\"Setting-up-a-HERE-Maps-account-1.1\"><span class=\"toc-item-num\">1.1&nbsp;&nbsp;</span>Setting up a HERE Maps account</a></span></li></ul></li><li><span><a href=\"#Load-in-libraries\" data-toc-modified-id=\"Load-in-libraries-2\"><span class=\"toc-item-num\">2&nbsp;&nbsp;</span>Load in libraries</a></span></li><li><span><a href=\"#Distances-and-Time-between-points\" data-toc-modified-id=\"Distances-and-Time-between-points-3\"><span class=\"toc-item-num\">3&nbsp;&nbsp;</span>Distances and Time between points</a></span><ul class=\"toc-item\"><li><span><a href=\"#Simple-example-with-driving-distance\" data-toc-modified-id=\"Simple-example-with-driving-distance-3.1\"><span class=\"toc-item-num\">3.1&nbsp;&nbsp;</span>Simple example with driving distance</a></span></li><li><span><a href=\"#Simple-example-with-walking-distance\" data-toc-modified-id=\"Simple-example-with-walking-distance-3.2\"><span class=\"toc-item-num\">3.2&nbsp;&nbsp;</span>Simple example with walking distance</a></span></li><li><span><a href=\"#Simple-example-with-truck-/-bicycle-/-scooter-distance\" data-toc-modified-id=\"Simple-example-with-truck-/-bicycle-/-scooter-distance-3.3\"><span class=\"toc-item-num\">3.3&nbsp;&nbsp;</span>Simple example with truck / bicycle / scooter distance</a></span></li></ul></li><li><span><a href=\"#Get-routing-distance-between-a-small-number-of-location-pairs\" data-toc-modified-id=\"Get-routing-distance-between-a-small-number-of-location-pairs-4\"><span class=\"toc-item-num\">4&nbsp;&nbsp;</span>Get routing distance between a small number of location pairs</a></span><ul class=\"toc-item\"><li><span><a href=\"#Calculate-drive-time-in-reverse-and-walking-time\" data-toc-modified-id=\"Calculate-drive-time-in-reverse-and-walking-time-4.1\"><span class=\"toc-item-num\">4.1&nbsp;&nbsp;</span>Calculate drive time in reverse and walking time</a></span></li><li><span><a href=\"#Generate-pairs-of-locations-from-a-list-of-locations\" data-toc-modified-id=\"Generate-pairs-of-locations-from-a-list-of-locations-4.2\"><span class=\"toc-item-num\">4.2&nbsp;&nbsp;</span>Generate pairs of locations from a list of locations</a></span></li><li><span><a href=\"#Generate-pairs-of-locations-between-two-lists-of-locations\" data-toc-modified-id=\"Generate-pairs-of-locations-between-two-lists-of-locations-4.3\"><span class=\"toc-item-num\">4.3&nbsp;&nbsp;</span>Generate pairs of locations between two lists of locations</a></span></li></ul></li><li><span><a href=\"#Get-drive-time-for-a-large-number-of-distances,-using-&quot;Matrix-Routing&quot;\" data-toc-modified-id=\"Get-drive-time-for-a-large-number-of-distances,-using-&quot;Matrix-Routing&quot;-5\"><span class=\"toc-item-num\">5&nbsp;&nbsp;</span>Get drive time for a large number of distances, using \"Matrix Routing\"</a></span></li><li><span><a href=\"#Disclaimers-and-Attribution\" data-toc-modified-id=\"Disclaimers-and-Attribution-6\"><span class=\"toc-item-num\">6&nbsp;&nbsp;</span>Disclaimers and Attribution</a></span></li></ul></div>"
   ]
  },
  {
   "cell_type": "markdown",
   "id": "23c7f7f8",
   "metadata": {},
   "source": [
    "<div class=\"alert alert-danger\" role=\"alert\">\n",
    "    <span style=\"font-size:20px\">&#9888;</span> <span style=\"font-size:16px\">This is a read-only notebook! If you want to make and save changes, save a copy by clicking on <b>File</b> &#8594; <b>Save a copy</b>. If this is already a copy, you can delete this cell.</span>\n",
    "</div>"
   ]
  },
  {
   "cell_type": "markdown",
   "id": "cfa89a80",
   "metadata": {},
   "source": [
    "# Drive distance and Drive time calculations (and walking time)"
   ]
  },
  {
   "cell_type": "markdown",
   "id": "36e7b212",
   "metadata": {},
   "source": [
    "<font color='red'>**IMPORTANT DISCLAIMER -- READ FIRST**</font>\n",
    "\n",
    "In this Notebook, we make use of API of HERE Maps as part of their Freemium service. Map content provided by HERE is subject to the HERE end-user terms, available at https://legal.here.com/en-gb/terms and the HERE privacy policy available at https://legal.here.com/en-gb/privacy. \n",
    "        \n",
    "**See bottom of this Notebook for more details**"
   ]
  },
  {
   "cell_type": "markdown",
   "id": "366c48b2",
   "metadata": {},
   "source": [
    "## Setting up a HERE Maps account\n",
    "\n",
    "\n",
    "See the **HERE Maps API - Standalone.ipynb** for instructions on how to create an account and get an API key. "
   ]
  },
  {
   "cell_type": "code",
   "execution_count": 1,
   "id": "4af11ff6",
   "metadata": {},
   "outputs": [],
   "source": [
    "api_key = \"Your API Key Here\""
   ]
  },
  {
   "cell_type": "markdown",
   "id": "b71f9b8f",
   "metadata": {},
   "source": [
    "# Load in libraries"
   ]
  },
  {
   "cell_type": "code",
   "execution_count": 2,
   "id": "c32c2792",
   "metadata": {},
   "outputs": [],
   "source": [
    "import pandas as pd"
   ]
  },
  {
   "cell_type": "markdown",
   "id": "e5a318d3",
   "metadata": {},
   "source": [
    "**Load in our custom wrapper functions for HERE Maps API**"
   ]
  },
  {
   "cell_type": "code",
   "execution_count": 3,
   "id": "166eb99d",
   "metadata": {},
   "outputs": [
    {
     "name": "stderr",
     "output_type": "stream",
     "text": [
      "c:\\users\\daniel.wang\\miniconda3\\lib\\site-packages\\requests\\__init__.py:102: RequestsDependencyWarning: urllib3 (1.26.8) or chardet (5.0.0)/charset_normalizer (2.0.4) doesn't match a supported version!\n",
      "  warnings.warn(\"urllib3 ({}) or chardet ({})/charset_normalizer ({}) doesn't match a supported \"\n"
     ]
    }
   ],
   "source": [
    "%load_ext autoreload\n",
    "%autoreload 2\n",
    "\n",
    "import sys\n",
    "sys.path.insert(0,\"../../utilities\")\n",
    "from geospatial.HERE_Maps_API import routing, geocoding"
   ]
  },
  {
   "cell_type": "markdown",
   "id": "304bdb74",
   "metadata": {},
   "source": [
    "# Distances and Time between points\n",
    "\n",
    "There are different types of time durations:\n",
    "* duration - total duration of the action, section, and so on\n",
    "* baseDuration - duration of route section (in seconds) ignoring time-aware information. In particular, dynamic traffic information is not taken into account. Only average free-flow speeds based on historical traffic are used to calculate this duration. The baseDuration can also be understood as the best possible duration.\n",
    "* typicalDuration - duration with typical traffic information for the given time of day\n",
    "\n",
    "## Simple example with driving distance"
   ]
  },
  {
   "cell_type": "code",
   "execution_count": 7,
   "id": "ca5ee511",
   "metadata": {},
   "outputs": [
    {
     "name": "stdout",
     "output_type": "stream",
     "text": [
      "29.9537,-90.07775 to 42.34184,-71.12279\n"
     ]
    }
   ],
   "source": [
    "# Get driving distances and times\n",
    "address_from = '6649 N Blue Gum St New Orleans LA'\n",
    "address_to = '55 Beacon Street, Brookline, MA'\n",
    "\n",
    "latlong_from = geocoding.get_latlong(address_from,api_key)[0]['string']\n",
    "latlong_to = geocoding.get_latlong(address_to,api_key)[0]['string']\n",
    "\n",
    "print(\"{} to {}\".format(latlong_from, latlong_to))\n",
    "\n",
    "results = routing.get_driving_info(latlong_from, latlong_to,api_key,summary_only=True, mile_or_meter=\"mile\") # Length in miles, and # time in seconds"
   ]
  },
  {
   "cell_type": "code",
   "execution_count": 15,
   "id": "e0ac21ad",
   "metadata": {},
   "outputs": [
    {
     "name": "stdout",
     "output_type": "stream",
     "text": [
      "Duration in minutes: 1390.55\n",
      "Distance in miles: 1521.205587383648\n",
      "Travel modes: car\n"
     ]
    }
   ],
   "source": [
    "print(f\"Duration in minutes: {results['duration']/60}\")\n",
    "print(f\"Distance in miles: {results['length']}\")\n",
    "print(f\"Travel modes: {results['modes']}\")"
   ]
  },
  {
   "cell_type": "code",
   "execution_count": 14,
   "id": "dbc36671",
   "metadata": {},
   "outputs": [
    {
     "data": {
      "text/html": [
       "<div>\n",
       "<style scoped>\n",
       "    .dataframe tbody tr th:only-of-type {\n",
       "        vertical-align: middle;\n",
       "    }\n",
       "\n",
       "    .dataframe tbody tr th {\n",
       "        vertical-align: top;\n",
       "    }\n",
       "\n",
       "    .dataframe thead th {\n",
       "        text-align: right;\n",
       "    }\n",
       "</style>\n",
       "<table border=\"1\" class=\"dataframe\">\n",
       "  <thead>\n",
       "    <tr style=\"text-align: right;\">\n",
       "      <th></th>\n",
       "      <th>route</th>\n",
       "      <th>section</th>\n",
       "      <th>mode</th>\n",
       "      <th>duration</th>\n",
       "      <th>length</th>\n",
       "      <th>baseDuration</th>\n",
       "    </tr>\n",
       "  </thead>\n",
       "  <tbody>\n",
       "    <tr>\n",
       "      <th>0</th>\n",
       "      <td>0</td>\n",
       "      <td>0</td>\n",
       "      <td>car</td>\n",
       "      <td>83433</td>\n",
       "      <td>1521.205587</td>\n",
       "      <td>83433</td>\n",
       "    </tr>\n",
       "  </tbody>\n",
       "</table>\n",
       "</div>"
      ],
      "text/plain": [
       "   route  section mode  duration       length  baseDuration\n",
       "0      0        0  car     83433  1521.205587         83433"
      ]
     },
     "execution_count": 14,
     "metadata": {},
     "output_type": "execute_result"
    }
   ],
   "source": [
    "# If there are multiple routes offered, or multiple sections within a route, we generate a table\n",
    "results['table']"
   ]
  },
  {
   "cell_type": "markdown",
   "id": "3c4e768d",
   "metadata": {},
   "source": [
    "## Simple example with walking distance"
   ]
  },
  {
   "cell_type": "code",
   "execution_count": 28,
   "id": "3c8800a2",
   "metadata": {},
   "outputs": [],
   "source": [
    "# Get walking information\n",
    "results = routing.get_walking_info(\"29.9537,-90.07775\", \"42.34184,-71.12279\",api_key,summary_only=True, \n",
    "                                   mile_or_meter=\"mile\", borders = \"state\")"
   ]
  },
  {
   "cell_type": "code",
   "execution_count": 29,
   "id": "609ace89",
   "metadata": {},
   "outputs": [
    {
     "name": "stdout",
     "output_type": "stream",
     "text": [
      "Duration in minutes: 40149.85\n",
      "Distance in miles: 1575.2724719450212\n",
      "Travel modes: ferry|pedestrian\n"
     ]
    }
   ],
   "source": [
    "print(f\"Duration in minutes: {results['duration']/60}\")\n",
    "print(f\"Distance in miles: {results['length']}\")\n",
    "print(f\"Travel modes: {results['modes']}\")"
   ]
  },
  {
   "cell_type": "code",
   "execution_count": 30,
   "id": "738d61ae",
   "metadata": {},
   "outputs": [
    {
     "name": "stdout",
     "output_type": "stream",
     "text": [
      "States: LA|TN|MD|RI|AL|DE|MA|MS|PA|NJ|VA|GA|NY|DC\n"
     ]
    }
   ],
   "source": [
    "# If requesting state or countries crossed:\n",
    "print(f\"States: {results['states']}\")"
   ]
  },
  {
   "cell_type": "code",
   "execution_count": 31,
   "id": "c96cb1f6",
   "metadata": {},
   "outputs": [
    {
     "data": {
      "text/html": [
       "<div>\n",
       "<style scoped>\n",
       "    .dataframe tbody tr th:only-of-type {\n",
       "        vertical-align: middle;\n",
       "    }\n",
       "\n",
       "    .dataframe tbody tr th {\n",
       "        vertical-align: top;\n",
       "    }\n",
       "\n",
       "    .dataframe thead th {\n",
       "        text-align: right;\n",
       "    }\n",
       "</style>\n",
       "<table border=\"1\" class=\"dataframe\">\n",
       "  <thead>\n",
       "    <tr style=\"text-align: right;\">\n",
       "      <th></th>\n",
       "      <th>route</th>\n",
       "      <th>section</th>\n",
       "      <th>mode</th>\n",
       "      <th>countries</th>\n",
       "      <th>states</th>\n",
       "      <th>duration</th>\n",
       "      <th>length</th>\n",
       "      <th>baseDuration</th>\n",
       "      <th>extra duration</th>\n",
       "    </tr>\n",
       "  </thead>\n",
       "  <tbody>\n",
       "    <tr>\n",
       "      <th>0</th>\n",
       "      <td>0</td>\n",
       "      <td>0</td>\n",
       "      <td>pedestrian</td>\n",
       "      <td>USA|USA|USA|USA|USA|USA|USA|USA|USA|USA|USA</td>\n",
       "      <td>LA|MS|AL|GA|TN|VA|DC|MD|DE|PA|NJ</td>\n",
       "      <td>2101679</td>\n",
       "      <td>1304.316676</td>\n",
       "      <td>2101679.0</td>\n",
       "      <td>0</td>\n",
       "    </tr>\n",
       "    <tr>\n",
       "      <th>1</th>\n",
       "      <td>0</td>\n",
       "      <td>1</td>\n",
       "      <td>ferry</td>\n",
       "      <td>USA</td>\n",
       "      <td>NaN</td>\n",
       "      <td>4659</td>\n",
       "      <td>19.738526</td>\n",
       "      <td>NaN</td>\n",
       "      <td>1800</td>\n",
       "    </tr>\n",
       "    <tr>\n",
       "      <th>2</th>\n",
       "      <td>0</td>\n",
       "      <td>2</td>\n",
       "      <td>pedestrian</td>\n",
       "      <td>USA</td>\n",
       "      <td>NY</td>\n",
       "      <td>9</td>\n",
       "      <td>0.005592</td>\n",
       "      <td>9.0</td>\n",
       "      <td>0</td>\n",
       "    </tr>\n",
       "    <tr>\n",
       "      <th>3</th>\n",
       "      <td>0</td>\n",
       "      <td>3</td>\n",
       "      <td>ferry</td>\n",
       "      <td>USA</td>\n",
       "      <td>NaN</td>\n",
       "      <td>2829</td>\n",
       "      <td>7.100426</td>\n",
       "      <td>NaN</td>\n",
       "      <td>1800</td>\n",
       "    </tr>\n",
       "    <tr>\n",
       "      <th>4</th>\n",
       "      <td>0</td>\n",
       "      <td>4</td>\n",
       "      <td>pedestrian</td>\n",
       "      <td>USA</td>\n",
       "      <td>NY</td>\n",
       "      <td>160672</td>\n",
       "      <td>99.711683</td>\n",
       "      <td>160672.0</td>\n",
       "      <td>0</td>\n",
       "    </tr>\n",
       "    <tr>\n",
       "      <th>5</th>\n",
       "      <td>0</td>\n",
       "      <td>5</td>\n",
       "      <td>ferry</td>\n",
       "      <td>USA</td>\n",
       "      <td>NaN</td>\n",
       "      <td>11795</td>\n",
       "      <td>68.907751</td>\n",
       "      <td>NaN</td>\n",
       "      <td>1800</td>\n",
       "    </tr>\n",
       "    <tr>\n",
       "      <th>6</th>\n",
       "      <td>0</td>\n",
       "      <td>6</td>\n",
       "      <td>pedestrian</td>\n",
       "      <td>USA|USA</td>\n",
       "      <td>RI|MA</td>\n",
       "      <td>121948</td>\n",
       "      <td>75.491817</td>\n",
       "      <td>121948.0</td>\n",
       "      <td>0</td>\n",
       "    </tr>\n",
       "  </tbody>\n",
       "</table>\n",
       "</div>"
      ],
      "text/plain": [
       "   route  section        mode                                    countries  \\\n",
       "0      0        0  pedestrian  USA|USA|USA|USA|USA|USA|USA|USA|USA|USA|USA   \n",
       "1      0        1       ferry                                          USA   \n",
       "2      0        2  pedestrian                                          USA   \n",
       "3      0        3       ferry                                          USA   \n",
       "4      0        4  pedestrian                                          USA   \n",
       "5      0        5       ferry                                          USA   \n",
       "6      0        6  pedestrian                                      USA|USA   \n",
       "\n",
       "                             states  duration       length  baseDuration  \\\n",
       "0  LA|MS|AL|GA|TN|VA|DC|MD|DE|PA|NJ   2101679  1304.316676     2101679.0   \n",
       "1                               NaN      4659    19.738526           NaN   \n",
       "2                                NY         9     0.005592           9.0   \n",
       "3                               NaN      2829     7.100426           NaN   \n",
       "4                                NY    160672    99.711683      160672.0   \n",
       "5                               NaN     11795    68.907751           NaN   \n",
       "6                             RI|MA    121948    75.491817      121948.0   \n",
       "\n",
       "   extra duration  \n",
       "0               0  \n",
       "1            1800  \n",
       "2               0  \n",
       "3            1800  \n",
       "4               0  \n",
       "5            1800  \n",
       "6               0  "
      ]
     },
     "execution_count": 31,
     "metadata": {},
     "output_type": "execute_result"
    }
   ],
   "source": [
    "# If there are multiple routes offered, or multiple sections within a route, we generate a table. Extra duration includes Ferry loading and offloading time.\n",
    "results['table']"
   ]
  },
  {
   "cell_type": "markdown",
   "id": "6b462b47",
   "metadata": {},
   "source": [
    "## Simple example with truck / bicycle / scooter distance"
   ]
  },
  {
   "cell_type": "code",
   "execution_count": 33,
   "id": "d9899847",
   "metadata": {},
   "outputs": [
    {
     "data": {
      "text/plain": [
       "{'table':    route  section   mode  duration      length  baseDuration  extra duration\n",
       " 0      0        0  truck     96275  1521.19751         96275               0,\n",
       " 'duration': 96275,\n",
       " 'modes': 'truck',\n",
       " 'length': 1521.1975095380715}"
      ]
     },
     "execution_count": 33,
     "metadata": {},
     "output_type": "execute_result"
    }
   ],
   "source": [
    "# Get truck information\n",
    "routing.get_any_routing_info(\"29.9537,-90.07775\", \"42.34184,-71.12279\", api_key, summary_only=True, mile_or_meter=\"mile\",\n",
    "                     transportMode=\"truck\")  # Use 'pedestrian', 'car', 'truck', 'bicycle', 'scooter'"
   ]
  },
  {
   "cell_type": "markdown",
   "id": "d2b46d19",
   "metadata": {},
   "source": [
    "# Get routing distance between a small number of location pairs\n",
    "\n",
    "We have a CSV file containing the latlongs for from and to destinations."
   ]
  },
  {
   "cell_type": "code",
   "execution_count": 34,
   "id": "958e9e8a",
   "metadata": {
    "scrolled": true
   },
   "outputs": [
    {
     "data": {
      "text/html": [
       "<div>\n",
       "<style scoped>\n",
       "    .dataframe tbody tr th:only-of-type {\n",
       "        vertical-align: middle;\n",
       "    }\n",
       "\n",
       "    .dataframe tbody tr th {\n",
       "        vertical-align: top;\n",
       "    }\n",
       "\n",
       "    .dataframe thead th {\n",
       "        text-align: right;\n",
       "    }\n",
       "</style>\n",
       "<table border=\"1\" class=\"dataframe\">\n",
       "  <thead>\n",
       "    <tr style=\"text-align: right;\">\n",
       "      <th></th>\n",
       "      <th>From</th>\n",
       "      <th>To</th>\n",
       "    </tr>\n",
       "  </thead>\n",
       "  <tbody>\n",
       "    <tr>\n",
       "      <th>0</th>\n",
       "      <td>29.9537,-90.07775</td>\n",
       "      <td>42.34184,-71.12279</td>\n",
       "    </tr>\n",
       "    <tr>\n",
       "      <th>1</th>\n",
       "      <td>30.5,-91</td>\n",
       "      <td>31.21,-90.5</td>\n",
       "    </tr>\n",
       "    <tr>\n",
       "      <th>2</th>\n",
       "      <td>34.712,-90.21</td>\n",
       "      <td>33.3,-92.1</td>\n",
       "    </tr>\n",
       "  </tbody>\n",
       "</table>\n",
       "</div>"
      ],
      "text/plain": [
       "                From                  To\n",
       "0  29.9537,-90.07775  42.34184,-71.12279\n",
       "1           30.5,-91         31.21,-90.5\n",
       "2      34.712,-90.21          33.3,-92.1"
      ]
     },
     "execution_count": 34,
     "metadata": {},
     "output_type": "execute_result"
    }
   ],
   "source": [
    "# Read in the data\n",
    "from_to_data = pd.read_csv(\"sample_input/from_to_locations.csv\")\n",
    "from_to_data.head()"
   ]
  },
  {
   "cell_type": "markdown",
   "id": "99062301",
   "metadata": {},
   "source": [
    "**We use a loop to get the distances**\n",
    "\n",
    "Advantage of using a loop vs. apply is that results are available even if the connection stops."
   ]
  },
  {
   "cell_type": "code",
   "execution_count": 35,
   "id": "c53bb1ec",
   "metadata": {},
   "outputs": [
    {
     "ename": "KeyError",
     "evalue": "'typicalDuration'",
     "output_type": "error",
     "traceback": [
      "\u001b[1;31m---------------------------------------------------------------------------\u001b[0m",
      "\u001b[1;31mKeyError\u001b[0m                                  Traceback (most recent call last)",
      "\u001b[1;32mC:\\Users\\DANIEL~1.WAN\\AppData\\Local\\Temp/ipykernel_57720/2544894510.py\u001b[0m in \u001b[0;36m<module>\u001b[1;34m\u001b[0m\n\u001b[0;32m     17\u001b[0m \u001b[1;33m\u001b[0m\u001b[0m\n\u001b[0;32m     18\u001b[0m     \u001b[0mfrom_to_results\u001b[0m\u001b[1;33m.\u001b[0m\u001b[0mloc\u001b[0m\u001b[1;33m[\u001b[0m\u001b[0midx\u001b[0m\u001b[1;33m,\u001b[0m \u001b[1;34m\"Distance\"\u001b[0m\u001b[1;33m]\u001b[0m \u001b[1;33m=\u001b[0m \u001b[0mdistance\u001b[0m\u001b[1;33m[\u001b[0m\u001b[1;34m'length'\u001b[0m\u001b[1;33m]\u001b[0m\u001b[1;33m\u001b[0m\u001b[1;33m\u001b[0m\u001b[0m\n\u001b[1;32m---> 19\u001b[1;33m     \u001b[0mfrom_to_results\u001b[0m\u001b[1;33m.\u001b[0m\u001b[0mloc\u001b[0m\u001b[1;33m[\u001b[0m\u001b[0midx\u001b[0m\u001b[1;33m,\u001b[0m \u001b[1;34m\"DriveTime\"\u001b[0m\u001b[1;33m]\u001b[0m \u001b[1;33m=\u001b[0m \u001b[0mdistance\u001b[0m\u001b[1;33m[\u001b[0m\u001b[1;34m'typicalDuration'\u001b[0m\u001b[1;33m]\u001b[0m\u001b[1;33m\u001b[0m\u001b[1;33m\u001b[0m\u001b[0m\n\u001b[0m\u001b[0;32m     20\u001b[0m \u001b[1;33m\u001b[0m\u001b[0m\n\u001b[0;32m     21\u001b[0m \u001b[0mfrom_to_results\u001b[0m\u001b[1;33m.\u001b[0m\u001b[0mhead\u001b[0m\u001b[1;33m(\u001b[0m\u001b[1;33m)\u001b[0m\u001b[1;33m\u001b[0m\u001b[1;33m\u001b[0m\u001b[0m\n",
      "\u001b[1;31mKeyError\u001b[0m: 'typicalDuration'"
     ]
    }
   ],
   "source": [
    "from_to_results = from_to_data.copy()\n",
    "from_to_results['Distance'] = None\n",
    "from_to_results['DriveTime'] = None\n",
    "\n",
    "for idx, row in from_to_results.iterrows():\n",
    "    \n",
    "    if from_to_results.shape[0] > 100:\n",
    "        if (idx % 100) == 0:\n",
    "            print(\"Processing {} out of {}\".format(idx+1, from_to_results.shape[0]))\n",
    "    \n",
    "    try:\n",
    "        distance = routing.get_any_routing_info(row[\"From\"], row['To'], \n",
    "                                                api_key, summary_only=True, mile_or_meter=\"mile\",\n",
    "                                                transportMode=\"car\")  # Use 'pedestrian', 'car', 'truck', 'bicycle', 'scooter'\n",
    "    except:\n",
    "        continue\n",
    "            \n",
    "    from_to_results.loc[idx, \"Distance\"] = distance['length']\n",
    "    from_to_results.loc[idx, \"DriveTime\"] = distance['typicalDuration']\n",
    "    \n",
    "from_to_results.head()"
   ]
  },
  {
   "cell_type": "markdown",
   "id": "499e8ab1",
   "metadata": {},
   "source": [
    "## Calculate drive time in reverse and walking time\n",
    "\n",
    "In some cases, the drive time in one direction can be very different from the drive time in the other direction, especially when distances are small, near highways or one-way roads. So getting the reverse drive time and walking time as reference can be helpful"
   ]
  },
  {
   "cell_type": "code",
   "execution_count": 36,
   "id": "8a964e2d",
   "metadata": {},
   "outputs": [
    {
     "data": {
      "text/html": [
       "<div>\n",
       "<style scoped>\n",
       "    .dataframe tbody tr th:only-of-type {\n",
       "        vertical-align: middle;\n",
       "    }\n",
       "\n",
       "    .dataframe tbody tr th {\n",
       "        vertical-align: top;\n",
       "    }\n",
       "\n",
       "    .dataframe thead th {\n",
       "        text-align: right;\n",
       "    }\n",
       "</style>\n",
       "<table border=\"1\" class=\"dataframe\">\n",
       "  <thead>\n",
       "    <tr style=\"text-align: right;\">\n",
       "      <th></th>\n",
       "      <th>From</th>\n",
       "      <th>To</th>\n",
       "      <th>Distance</th>\n",
       "      <th>DriveTime</th>\n",
       "      <th>Distance_reverse</th>\n",
       "      <th>DriveTime_reverse</th>\n",
       "      <th>Distance_walk</th>\n",
       "      <th>DriveTime_walk</th>\n",
       "    </tr>\n",
       "  </thead>\n",
       "  <tbody>\n",
       "    <tr>\n",
       "      <th>0</th>\n",
       "      <td>29.9537,-90.07775</td>\n",
       "      <td>42.34184,-71.12279</td>\n",
       "      <td>1521.205587</td>\n",
       "      <td>83433</td>\n",
       "      <td>1526.065344</td>\n",
       "      <td>83427</td>\n",
       "      <td>1575.272472</td>\n",
       "      <td>2408991</td>\n",
       "    </tr>\n",
       "    <tr>\n",
       "      <th>1</th>\n",
       "      <td>30.5,-91</td>\n",
       "      <td>31.21,-90.5</td>\n",
       "      <td>72.864653</td>\n",
       "      <td>4829</td>\n",
       "      <td>72.662085</td>\n",
       "      <td>4793</td>\n",
       "      <td>69.116532</td>\n",
       "      <td>111457</td>\n",
       "    </tr>\n",
       "    <tr>\n",
       "      <th>2</th>\n",
       "      <td>34.712,-90.21</td>\n",
       "      <td>33.3,-92.1</td>\n",
       "      <td>193.988219</td>\n",
       "      <td>13177</td>\n",
       "      <td>192.733046</td>\n",
       "      <td>13144</td>\n",
       "      <td>182.860054</td>\n",
       "      <td>294655</td>\n",
       "    </tr>\n",
       "  </tbody>\n",
       "</table>\n",
       "</div>"
      ],
      "text/plain": [
       "                From                  To     Distance DriveTime  \\\n",
       "0  29.9537,-90.07775  42.34184,-71.12279  1521.205587     83433   \n",
       "1           30.5,-91         31.21,-90.5    72.864653      4829   \n",
       "2      34.712,-90.21          33.3,-92.1   193.988219     13177   \n",
       "\n",
       "  Distance_reverse DriveTime_reverse Distance_walk DriveTime_walk  \n",
       "0      1526.065344             83427   1575.272472        2408991  \n",
       "1        72.662085              4793     69.116532         111457  \n",
       "2       192.733046             13144    182.860054         294655  "
      ]
     },
     "execution_count": 36,
     "metadata": {},
     "output_type": "execute_result"
    }
   ],
   "source": [
    "from_to_results = from_to_data.copy()\n",
    "from_to_results['Distance'] = None\n",
    "from_to_results['DriveTime'] = None\n",
    "from_to_results['Distance_reverse'] = None\n",
    "from_to_results['DriveTime_reverse'] = None\n",
    "from_to_results['Distance_walk'] = None\n",
    "from_to_results['DriveTime_walk'] = None\n",
    "\n",
    "for idx, row in from_to_results.iterrows():\n",
    "    \n",
    "    if from_to_results.shape[0] > 100:\n",
    "        if (idx % 100) == 0:\n",
    "            print(\"Processing {} out of {}\".format(idx+1, from_to_results.shape[0]))\n",
    "    \n",
    "    try:\n",
    "        distance = routing.get_any_routing_info(row[\"From\"], row['To'], \n",
    "                                                api_key, summary_only=True, mile_or_meter=\"mile\",\n",
    "                                                transportMode=\"car\")  # Use 'pedestrian', 'car', 'truck', 'bicycle', 'scooter'\n",
    "        from_to_results.loc[idx, \"Distance\"] = distance['length']\n",
    "        from_to_results.loc[idx, \"DriveTime\"] = distance['duration']\n",
    "    \n",
    "    except:\n",
    "        pass\n",
    "            \n",
    "    try:\n",
    "        distance = routing.get_any_routing_info(row[\"To\"], row['From'], \n",
    "                                                api_key, summary_only=True, mile_or_meter=\"mile\",\n",
    "                                                transportMode=\"car\")  # Use 'pedestrian', 'car', 'truck', 'bicycle', 'scooter'\n",
    "    \n",
    "        from_to_results.loc[idx, \"Distance_reverse\"] = distance['length']\n",
    "        from_to_results.loc[idx, \"DriveTime_reverse\"] = distance['duration']\n",
    "    \n",
    "    except:\n",
    "        pass\n",
    "            \n",
    "    try:\n",
    "        distance = routing.get_any_routing_info(row[\"From\"], row['To'], \n",
    "                                                api_key, summary_only=True, mile_or_meter=\"mile\",\n",
    "                                                transportMode=\"pedestrian\")  # Use 'pedestrian', 'car', 'truck', 'bicycle', 'scooter'\n",
    "        from_to_results.loc[idx, \"Distance_walk\"] = distance['length']\n",
    "        from_to_results.loc[idx, \"DriveTime_walk\"] = distance['duration']\n",
    "    \n",
    "    except:\n",
    "        pass\n",
    "            \n",
    "    \n",
    "from_to_results.head()"
   ]
  },
  {
   "cell_type": "markdown",
   "id": "35410595",
   "metadata": {},
   "source": [
    "## Generate pairs of locations from a list of locations"
   ]
  },
  {
   "cell_type": "code",
   "execution_count": 37,
   "id": "6fb8a251",
   "metadata": {
    "scrolled": true
   },
   "outputs": [
    {
     "data": {
      "text/html": [
       "<div>\n",
       "<style scoped>\n",
       "    .dataframe tbody tr th:only-of-type {\n",
       "        vertical-align: middle;\n",
       "    }\n",
       "\n",
       "    .dataframe tbody tr th {\n",
       "        vertical-align: top;\n",
       "    }\n",
       "\n",
       "    .dataframe thead th {\n",
       "        text-align: right;\n",
       "    }\n",
       "</style>\n",
       "<table border=\"1\" class=\"dataframe\">\n",
       "  <thead>\n",
       "    <tr style=\"text-align: right;\">\n",
       "      <th></th>\n",
       "      <th>Input1</th>\n",
       "      <th>Input2</th>\n",
       "      <th>Index1</th>\n",
       "      <th>Index2</th>\n",
       "    </tr>\n",
       "  </thead>\n",
       "  <tbody>\n",
       "    <tr>\n",
       "      <th>0</th>\n",
       "      <td>29.9537,-90.07775</td>\n",
       "      <td>30.5,-91</td>\n",
       "      <td>0</td>\n",
       "      <td>1</td>\n",
       "    </tr>\n",
       "    <tr>\n",
       "      <th>1</th>\n",
       "      <td>29.9537,-90.07775</td>\n",
       "      <td>34.712,-90.21</td>\n",
       "      <td>0</td>\n",
       "      <td>2</td>\n",
       "    </tr>\n",
       "    <tr>\n",
       "      <th>2</th>\n",
       "      <td>29.9537,-90.07775</td>\n",
       "      <td>42.34184,-71.12279</td>\n",
       "      <td>0</td>\n",
       "      <td>3</td>\n",
       "    </tr>\n",
       "    <tr>\n",
       "      <th>3</th>\n",
       "      <td>29.9537,-90.07775</td>\n",
       "      <td>31.21,-90.5</td>\n",
       "      <td>0</td>\n",
       "      <td>4</td>\n",
       "    </tr>\n",
       "    <tr>\n",
       "      <th>4</th>\n",
       "      <td>29.9537,-90.07775</td>\n",
       "      <td>33.3,-92.1</td>\n",
       "      <td>0</td>\n",
       "      <td>5</td>\n",
       "    </tr>\n",
       "    <tr>\n",
       "      <th>5</th>\n",
       "      <td>30.5,-91</td>\n",
       "      <td>34.712,-90.21</td>\n",
       "      <td>1</td>\n",
       "      <td>2</td>\n",
       "    </tr>\n",
       "    <tr>\n",
       "      <th>6</th>\n",
       "      <td>30.5,-91</td>\n",
       "      <td>42.34184,-71.12279</td>\n",
       "      <td>1</td>\n",
       "      <td>3</td>\n",
       "    </tr>\n",
       "    <tr>\n",
       "      <th>7</th>\n",
       "      <td>30.5,-91</td>\n",
       "      <td>31.21,-90.5</td>\n",
       "      <td>1</td>\n",
       "      <td>4</td>\n",
       "    </tr>\n",
       "    <tr>\n",
       "      <th>8</th>\n",
       "      <td>30.5,-91</td>\n",
       "      <td>33.3,-92.1</td>\n",
       "      <td>1</td>\n",
       "      <td>5</td>\n",
       "    </tr>\n",
       "    <tr>\n",
       "      <th>9</th>\n",
       "      <td>34.712,-90.21</td>\n",
       "      <td>42.34184,-71.12279</td>\n",
       "      <td>2</td>\n",
       "      <td>3</td>\n",
       "    </tr>\n",
       "    <tr>\n",
       "      <th>10</th>\n",
       "      <td>34.712,-90.21</td>\n",
       "      <td>31.21,-90.5</td>\n",
       "      <td>2</td>\n",
       "      <td>4</td>\n",
       "    </tr>\n",
       "    <tr>\n",
       "      <th>11</th>\n",
       "      <td>34.712,-90.21</td>\n",
       "      <td>33.3,-92.1</td>\n",
       "      <td>2</td>\n",
       "      <td>5</td>\n",
       "    </tr>\n",
       "    <tr>\n",
       "      <th>12</th>\n",
       "      <td>42.34184,-71.12279</td>\n",
       "      <td>31.21,-90.5</td>\n",
       "      <td>3</td>\n",
       "      <td>4</td>\n",
       "    </tr>\n",
       "    <tr>\n",
       "      <th>13</th>\n",
       "      <td>42.34184,-71.12279</td>\n",
       "      <td>33.3,-92.1</td>\n",
       "      <td>3</td>\n",
       "      <td>5</td>\n",
       "    </tr>\n",
       "    <tr>\n",
       "      <th>14</th>\n",
       "      <td>31.21,-90.5</td>\n",
       "      <td>33.3,-92.1</td>\n",
       "      <td>4</td>\n",
       "      <td>5</td>\n",
       "    </tr>\n",
       "  </tbody>\n",
       "</table>\n",
       "</div>"
      ],
      "text/plain": [
       "                Input1              Input2  Index1  Index2\n",
       "0    29.9537,-90.07775            30.5,-91       0       1\n",
       "1    29.9537,-90.07775       34.712,-90.21       0       2\n",
       "2    29.9537,-90.07775  42.34184,-71.12279       0       3\n",
       "3    29.9537,-90.07775         31.21,-90.5       0       4\n",
       "4    29.9537,-90.07775          33.3,-92.1       0       5\n",
       "5             30.5,-91       34.712,-90.21       1       2\n",
       "6             30.5,-91  42.34184,-71.12279       1       3\n",
       "7             30.5,-91         31.21,-90.5       1       4\n",
       "8             30.5,-91          33.3,-92.1       1       5\n",
       "9        34.712,-90.21  42.34184,-71.12279       2       3\n",
       "10       34.712,-90.21         31.21,-90.5       2       4\n",
       "11       34.712,-90.21          33.3,-92.1       2       5\n",
       "12  42.34184,-71.12279         31.21,-90.5       3       4\n",
       "13  42.34184,-71.12279          33.3,-92.1       3       5\n",
       "14         31.21,-90.5          33.3,-92.1       4       5"
      ]
     },
     "execution_count": 37,
     "metadata": {},
     "output_type": "execute_result"
    }
   ],
   "source": [
    "locations = [\"29.9537,-90.07775\", \"30.5,-91\", \"34.712,-90.21\", \"42.34184,-71.12279\", \"31.21,-90.5\", \"33.3,-92.1\"]\n",
    "all_combos = routing.all_combinations(locations)\n",
    "all_combos"
   ]
  },
  {
   "cell_type": "markdown",
   "id": "a76c4775",
   "metadata": {},
   "source": [
    "## Generate pairs of locations between two lists of locations"
   ]
  },
  {
   "cell_type": "code",
   "execution_count": 38,
   "id": "15526795",
   "metadata": {},
   "outputs": [
    {
     "data": {
      "text/html": [
       "<div>\n",
       "<style scoped>\n",
       "    .dataframe tbody tr th:only-of-type {\n",
       "        vertical-align: middle;\n",
       "    }\n",
       "\n",
       "    .dataframe tbody tr th {\n",
       "        vertical-align: top;\n",
       "    }\n",
       "\n",
       "    .dataframe thead th {\n",
       "        text-align: right;\n",
       "    }\n",
       "</style>\n",
       "<table border=\"1\" class=\"dataframe\">\n",
       "  <thead>\n",
       "    <tr style=\"text-align: right;\">\n",
       "      <th></th>\n",
       "      <th>Input1</th>\n",
       "      <th>Input2</th>\n",
       "      <th>Index1</th>\n",
       "      <th>Index2</th>\n",
       "    </tr>\n",
       "  </thead>\n",
       "  <tbody>\n",
       "    <tr>\n",
       "      <th>0</th>\n",
       "      <td>29.9537,-90.07775</td>\n",
       "      <td>42.34184,-71.12279</td>\n",
       "      <td>0</td>\n",
       "      <td>0</td>\n",
       "    </tr>\n",
       "    <tr>\n",
       "      <th>1</th>\n",
       "      <td>29.9537,-90.07775</td>\n",
       "      <td>31.21,-90.5</td>\n",
       "      <td>0</td>\n",
       "      <td>1</td>\n",
       "    </tr>\n",
       "    <tr>\n",
       "      <th>2</th>\n",
       "      <td>29.9537,-90.07775</td>\n",
       "      <td>33.3,-92.1</td>\n",
       "      <td>0</td>\n",
       "      <td>2</td>\n",
       "    </tr>\n",
       "    <tr>\n",
       "      <th>3</th>\n",
       "      <td>30.5,-91</td>\n",
       "      <td>42.34184,-71.12279</td>\n",
       "      <td>1</td>\n",
       "      <td>0</td>\n",
       "    </tr>\n",
       "    <tr>\n",
       "      <th>4</th>\n",
       "      <td>30.5,-91</td>\n",
       "      <td>31.21,-90.5</td>\n",
       "      <td>1</td>\n",
       "      <td>1</td>\n",
       "    </tr>\n",
       "    <tr>\n",
       "      <th>5</th>\n",
       "      <td>30.5,-91</td>\n",
       "      <td>33.3,-92.1</td>\n",
       "      <td>1</td>\n",
       "      <td>2</td>\n",
       "    </tr>\n",
       "    <tr>\n",
       "      <th>6</th>\n",
       "      <td>34.712,-90.21</td>\n",
       "      <td>42.34184,-71.12279</td>\n",
       "      <td>2</td>\n",
       "      <td>0</td>\n",
       "    </tr>\n",
       "    <tr>\n",
       "      <th>7</th>\n",
       "      <td>34.712,-90.21</td>\n",
       "      <td>31.21,-90.5</td>\n",
       "      <td>2</td>\n",
       "      <td>1</td>\n",
       "    </tr>\n",
       "    <tr>\n",
       "      <th>8</th>\n",
       "      <td>34.712,-90.21</td>\n",
       "      <td>33.3,-92.1</td>\n",
       "      <td>2</td>\n",
       "      <td>2</td>\n",
       "    </tr>\n",
       "  </tbody>\n",
       "</table>\n",
       "</div>"
      ],
      "text/plain": [
       "              Input1              Input2  Index1  Index2\n",
       "0  29.9537,-90.07775  42.34184,-71.12279       0       0\n",
       "1  29.9537,-90.07775         31.21,-90.5       0       1\n",
       "2  29.9537,-90.07775          33.3,-92.1       0       2\n",
       "3           30.5,-91  42.34184,-71.12279       1       0\n",
       "4           30.5,-91         31.21,-90.5       1       1\n",
       "5           30.5,-91          33.3,-92.1       1       2\n",
       "6      34.712,-90.21  42.34184,-71.12279       2       0\n",
       "7      34.712,-90.21         31.21,-90.5       2       1\n",
       "8      34.712,-90.21          33.3,-92.1       2       2"
      ]
     },
     "execution_count": 38,
     "metadata": {},
     "output_type": "execute_result"
    }
   ],
   "source": [
    "from_locations = [\"29.9537,-90.07775\", \"30.5,-91\", \"34.712,-90.21\"] \n",
    "to_locations = [\"42.34184,-71.12279\", \"31.21,-90.5\", \"33.3,-92.1\"]\n",
    "all_combos = routing.all_combinations(from_locations, to_locations)\n",
    "all_combos"
   ]
  },
  {
   "cell_type": "markdown",
   "id": "5a095e3f",
   "metadata": {},
   "source": [
    "# Get drive time for a large number of distances, using \"Matrix Routing\"\n",
    "\n",
    "**IMPORTANT: To use this, you need a temporary access token**\n",
    "Access tokens are requested using your access_key_id and access_key_secret, and lasts 24 hours. You need to follow the instructions to get a token:\n",
    "https://developer.here.com/documentation/authentication/dev_guide/topics/using-postman.html#using-postman"
   ]
  },
  {
   "cell_type": "code",
   "execution_count": 39,
   "id": "3ca1b5ba",
   "metadata": {},
   "outputs": [],
   "source": [
    "access_token = \"Your Access Token Here\""
   ]
  },
  {
   "cell_type": "markdown",
   "id": "ae41a15b",
   "metadata": {},
   "source": [
    "**For more configurations, see https://developer.here.com/documentation/matrix-routing-api/api-reference-swagger.html**"
   ]
  },
  {
   "cell_type": "code",
   "execution_count": 41,
   "id": "70b63659",
   "metadata": {},
   "outputs": [
    {
     "data": {
      "text/html": [
       "<div>\n",
       "<style scoped>\n",
       "    .dataframe tbody tr th:only-of-type {\n",
       "        vertical-align: middle;\n",
       "    }\n",
       "\n",
       "    .dataframe tbody tr th {\n",
       "        vertical-align: top;\n",
       "    }\n",
       "\n",
       "    .dataframe thead th {\n",
       "        text-align: right;\n",
       "    }\n",
       "</style>\n",
       "<table border=\"1\" class=\"dataframe\">\n",
       "  <thead>\n",
       "    <tr style=\"text-align: right;\">\n",
       "      <th></th>\n",
       "      <th>latitude_x</th>\n",
       "      <th>longitude_x</th>\n",
       "      <th>orig_index</th>\n",
       "      <th>latitude_y</th>\n",
       "      <th>longitude_y</th>\n",
       "      <th>dest_index</th>\n",
       "      <th>travelTimes</th>\n",
       "      <th>distances</th>\n",
       "      <th>errorCodes</th>\n",
       "    </tr>\n",
       "  </thead>\n",
       "  <tbody>\n",
       "    <tr>\n",
       "      <th>0</th>\n",
       "      <td>52.2</td>\n",
       "      <td>13.432</td>\n",
       "      <td>0</td>\n",
       "      <td>51.2</td>\n",
       "      <td>13.20</td>\n",
       "      <td>0</td>\n",
       "      <td>9539</td>\n",
       "      <td>134947</td>\n",
       "      <td>0</td>\n",
       "    </tr>\n",
       "    <tr>\n",
       "      <th>1</th>\n",
       "      <td>52.2</td>\n",
       "      <td>13.432</td>\n",
       "      <td>0</td>\n",
       "      <td>50.1</td>\n",
       "      <td>12.40</td>\n",
       "      <td>1</td>\n",
       "      <td>19830</td>\n",
       "      <td>300497</td>\n",
       "      <td>0</td>\n",
       "    </tr>\n",
       "    <tr>\n",
       "      <th>2</th>\n",
       "      <td>52.2</td>\n",
       "      <td>13.432</td>\n",
       "      <td>0</td>\n",
       "      <td>53.5</td>\n",
       "      <td>11.22</td>\n",
       "      <td>2</td>\n",
       "      <td>13208</td>\n",
       "      <td>235109</td>\n",
       "      <td>0</td>\n",
       "    </tr>\n",
       "    <tr>\n",
       "      <th>3</th>\n",
       "      <td>52.1</td>\n",
       "      <td>13.400</td>\n",
       "      <td>1</td>\n",
       "      <td>51.2</td>\n",
       "      <td>13.20</td>\n",
       "      <td>0</td>\n",
       "      <td>8929</td>\n",
       "      <td>123390</td>\n",
       "      <td>0</td>\n",
       "    </tr>\n",
       "    <tr>\n",
       "      <th>4</th>\n",
       "      <td>52.1</td>\n",
       "      <td>13.400</td>\n",
       "      <td>1</td>\n",
       "      <td>50.1</td>\n",
       "      <td>12.40</td>\n",
       "      <td>1</td>\n",
       "      <td>19176</td>\n",
       "      <td>288520</td>\n",
       "      <td>0</td>\n",
       "    </tr>\n",
       "    <tr>\n",
       "      <th>5</th>\n",
       "      <td>52.1</td>\n",
       "      <td>13.400</td>\n",
       "      <td>1</td>\n",
       "      <td>53.5</td>\n",
       "      <td>11.22</td>\n",
       "      <td>2</td>\n",
       "      <td>13717</td>\n",
       "      <td>243362</td>\n",
       "      <td>0</td>\n",
       "    </tr>\n",
       "    <tr>\n",
       "      <th>6</th>\n",
       "      <td>52.5</td>\n",
       "      <td>13.220</td>\n",
       "      <td>2</td>\n",
       "      <td>51.2</td>\n",
       "      <td>13.20</td>\n",
       "      <td>0</td>\n",
       "      <td>11395</td>\n",
       "      <td>176905</td>\n",
       "      <td>0</td>\n",
       "    </tr>\n",
       "    <tr>\n",
       "      <th>7</th>\n",
       "      <td>52.5</td>\n",
       "      <td>13.220</td>\n",
       "      <td>2</td>\n",
       "      <td>50.1</td>\n",
       "      <td>12.40</td>\n",
       "      <td>1</td>\n",
       "      <td>21386</td>\n",
       "      <td>323669</td>\n",
       "      <td>0</td>\n",
       "    </tr>\n",
       "    <tr>\n",
       "      <th>8</th>\n",
       "      <td>52.5</td>\n",
       "      <td>13.220</td>\n",
       "      <td>2</td>\n",
       "      <td>53.5</td>\n",
       "      <td>11.22</td>\n",
       "      <td>2</td>\n",
       "      <td>9918</td>\n",
       "      <td>195345</td>\n",
       "      <td>0</td>\n",
       "    </tr>\n",
       "  </tbody>\n",
       "</table>\n",
       "</div>"
      ],
      "text/plain": [
       "   latitude_x  longitude_x  orig_index  latitude_y  longitude_y  dest_index  \\\n",
       "0        52.2       13.432           0        51.2        13.20           0   \n",
       "1        52.2       13.432           0        50.1        12.40           1   \n",
       "2        52.2       13.432           0        53.5        11.22           2   \n",
       "3        52.1       13.400           1        51.2        13.20           0   \n",
       "4        52.1       13.400           1        50.1        12.40           1   \n",
       "5        52.1       13.400           1        53.5        11.22           2   \n",
       "6        52.5       13.220           2        51.2        13.20           0   \n",
       "7        52.5       13.220           2        50.1        12.40           1   \n",
       "8        52.5       13.220           2        53.5        11.22           2   \n",
       "\n",
       "   travelTimes  distances  errorCodes  \n",
       "0         9539     134947           0  \n",
       "1        19830     300497           0  \n",
       "2        13208     235109           0  \n",
       "3         8929     123390           0  \n",
       "4        19176     288520           0  \n",
       "5        13717     243362           0  \n",
       "6        11395     176905           0  \n",
       "7        21386     323669           0  \n",
       "8         9918     195345           0  "
      ]
     },
     "execution_count": 41,
     "metadata": {},
     "output_type": "execute_result"
    }
   ],
   "source": [
    "# Example\n",
    "origins = pd.DataFrame({\"latitude\":[52.2,52.1,52.5], \"longitude\":[13.432, 13.4,13.22]})\n",
    "destinations = pd.DataFrame({\"latitude\":[51.2,50.1,53.5], \"longitude\":[13.2, 12.4,11.22]})\n",
    "\n",
    "results, metadata = routing.calculate_matrix_routing(api_key, access_token, origins, destinations, profile=\"carShort\")\n",
    "results"
   ]
  },
  {
   "cell_type": "markdown",
   "id": "f6ea282c",
   "metadata": {},
   "source": [
    "# Disclaimers and Attribution"
   ]
  },
  {
   "cell_type": "markdown",
   "id": "2390db40",
   "metadata": {},
   "source": [
    "In this Notebook, we make use of API of HERE Maps as part of their Freemium service. Map content provided by HERE is subject to the HERE end-user terms, available at https://legal.here.com/en-gb/terms and the HERE privacy policy available at https://legal.here.com/en-gb/privacy. \n",
    "\n",
    "Generally, you may use HERE Maps to perform analysis to deliver to your clients. In the materials you deliver (e.g. PPT, Excel, etc.), make sure to **list HERE Maps as one of the sources**\n",
    "\n",
    "This script itself should not be handed over to the client. If your client requires code / scripts to make use of HERE Maps' API, then it is your and your client's responsibility to adhere to the HERE Maps terms and conditions.\n",
    "\n",
    "Map content provided by HERE is subject to the HERE end-user terms, available at https://legal.here.com/en-gb/terms and the HERE privacy policy available at https://legal.here.com/en-gb/privacy\n",
    "* You cannot modify, alter or tamper with any proprietary marks, rights notices or other notices, HERE trademarks, logos, etc.\n",
    "* All copyright, trademark and other intellectual property rights in the map content provided by HERE belongs to HERE. HERE's trademarks, logos, service marks, trade names and similar designations belong to HERE. \n",
    "\n",
    "More discussion on Terms and Conditions are here: https://owlabs.atlassian.net/wiki/spaces/MappingAssets/pages/2051014799/Third+Party+API+-+Terms+and+Conditions"
   ]
  },
  {
   "cell_type": "markdown",
   "id": "c6239c45",
   "metadata": {},
   "source": [
    "© 2022 Oliver Wyman © 2022 HERE"
   ]
  }
 ],
 "metadata": {
  "kernelspec": {
   "display_name": "Python 3 (ipykernel)",
   "language": "python",
   "name": "python3"
  },
  "language_info": {
   "codemirror_mode": {
    "name": "ipython",
    "version": 3
   },
   "file_extension": ".py",
   "mimetype": "text/x-python",
   "name": "python",
   "nbconvert_exporter": "python",
   "pygments_lexer": "ipython3",
   "version": "3.9.5"
  },
  "toc": {
   "base_numbering": 1,
   "nav_menu": {},
   "number_sections": true,
   "sideBar": true,
   "skip_h1_title": false,
   "title_cell": "Table of Contents",
   "title_sidebar": "Contents",
   "toc_cell": true,
   "toc_position": {},
   "toc_section_display": true,
   "toc_window_display": true
  }
 },
 "nbformat": 4,
 "nbformat_minor": 5
}
