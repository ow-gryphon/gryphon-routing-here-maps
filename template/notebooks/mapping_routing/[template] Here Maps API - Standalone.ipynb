{
 "cells": [
  {
   "cell_type": "markdown",
   "metadata": {
    "toc": true
   },
   "source": [
    "<h1>Table of Contents<span class=\"tocSkip\"></span></h1>\n",
    "<div class=\"toc\"><ul class=\"toc-item\"><li><span><a href=\"#Initial-Setup-of-HERE-Maps-account\" data-toc-modified-id=\"Initial-Setup-of-HERE-Maps-account-1\"><span class=\"toc-item-num\">1&nbsp;&nbsp;</span>Initial Setup of HERE Maps account</a></span></li><li><span><a href=\"#Reusable-functions\" data-toc-modified-id=\"Reusable-functions-2\"><span class=\"toc-item-num\">2&nbsp;&nbsp;</span>Reusable functions</a></span><ul class=\"toc-item\"><li><span><a href=\"#Geocoding\" data-toc-modified-id=\"Geocoding-2.1\"><span class=\"toc-item-num\">2.1&nbsp;&nbsp;</span>Geocoding</a></span></li><li><span><a href=\"#Calculate-route-distance-and-travel-times\" data-toc-modified-id=\"Calculate-route-distance-and-travel-times-2.2\"><span class=\"toc-item-num\">2.2&nbsp;&nbsp;</span>Calculate route distance and travel times</a></span></li><li><span><a href=\"#Matrix-Routing\" data-toc-modified-id=\"Matrix-Routing-2.3\"><span class=\"toc-item-num\">2.3&nbsp;&nbsp;</span>Matrix Routing</a></span></li><li><span><a href=\"#Utility-functions\" data-toc-modified-id=\"Utility-functions-2.4\"><span class=\"toc-item-num\">2.4&nbsp;&nbsp;</span>Utility functions</a></span></li></ul></li><li><span><a href=\"#Simple-examples-on-the-APIs-in-Section-2\" data-toc-modified-id=\"Simple-examples-on-the-APIs-in-Section-2-3\"><span class=\"toc-item-num\">3&nbsp;&nbsp;</span>Simple examples on the APIs in Section 2</a></span><ul class=\"toc-item\"><li><span><a href=\"#Geocoding---get-latitude-and-longitude-from-address\" data-toc-modified-id=\"Geocoding---get-latitude-and-longitude-from-address-3.1\"><span class=\"toc-item-num\">3.1&nbsp;&nbsp;</span>Geocoding - get latitude and longitude from address</a></span></li><li><span><a href=\"#Reverse-Geocoding---get-address-from-latitude,-longitude\" data-toc-modified-id=\"Reverse-Geocoding---get-address-from-latitude,-longitude-3.2\"><span class=\"toc-item-num\">3.2&nbsp;&nbsp;</span>Reverse Geocoding - get address from latitude, longitude</a></span></li><li><span><a href=\"#Search---find-addresses-satisfying-specific-conditions-near-a-latitude,-longitude\" data-toc-modified-id=\"Search---find-addresses-satisfying-specific-conditions-near-a-latitude,-longitude-3.3\"><span class=\"toc-item-num\">3.3&nbsp;&nbsp;</span>Search - find addresses satisfying specific conditions near a latitude, longitude</a></span></li><li><span><a href=\"#Distances-and-Time-between-points\" data-toc-modified-id=\"Distances-and-Time-between-points-3.4\"><span class=\"toc-item-num\">3.4&nbsp;&nbsp;</span>Distances and Time between points</a></span></li><li><span><a href=\"#Matrix-Routing\" data-toc-modified-id=\"Matrix-Routing-3.5\"><span class=\"toc-item-num\">3.5&nbsp;&nbsp;</span>Matrix Routing</a></span></li></ul></li><li><span><a href=\"#Worked-examples\" data-toc-modified-id=\"Worked-examples-4\"><span class=\"toc-item-num\">4&nbsp;&nbsp;</span>Worked examples</a></span><ul class=\"toc-item\"><li><span><a href=\"#Loading-in-a-list-of-addresses-to-convert-into-latitude-and-longitude\" data-toc-modified-id=\"Loading-in-a-list-of-addresses-to-convert-into-latitude-and-longitude-4.1\"><span class=\"toc-item-num\">4.1&nbsp;&nbsp;</span>Loading in a list of addresses to convert into latitude and longitude</a></span></li><li><span><a href=\"#Loading-in-a-table-of-journeys-(origin-and-destination)-and-calculating-the-distance-and-travel-times\" data-toc-modified-id=\"Loading-in-a-table-of-journeys-(origin-and-destination)-and-calculating-the-distance-and-travel-times-4.2\"><span class=\"toc-item-num\">4.2&nbsp;&nbsp;</span>Loading in a table of journeys (origin and destination) and calculating the distance and travel times</a></span></li><li><span><a href=\"#Generating-a-list-of-potential-journeys-from-a-single-list-of-addresses\" data-toc-modified-id=\"Generating-a-list-of-potential-journeys-from-a-single-list-of-addresses-4.3\"><span class=\"toc-item-num\">4.3&nbsp;&nbsp;</span>Generating a list of potential journeys from a single list of addresses</a></span></li></ul></li><li><span><a href=\"#Examples-with-map-images\" data-toc-modified-id=\"Examples-with-map-images-5\"><span class=\"toc-item-num\">5&nbsp;&nbsp;</span>Examples with map images</a></span><ul class=\"toc-item\"><li><span><a href=\"#View-a-map-piece-surrounding-a-latitude-and-longitude\" data-toc-modified-id=\"View-a-map-piece-surrounding-a-latitude-and-longitude-5.1\"><span class=\"toc-item-num\">5.1&nbsp;&nbsp;</span>View a map piece surrounding a latitude and longitude</a></span></li><li><span><a href=\"#Show-points-of-interest-in-map\" data-toc-modified-id=\"Show-points-of-interest-in-map-5.2\"><span class=\"toc-item-num\">5.2&nbsp;&nbsp;</span>Show points-of-interest in map</a></span></li><li><span><a href=\"#Show-a-route-in-map\" data-toc-modified-id=\"Show-a-route-in-map-5.3\"><span class=\"toc-item-num\">5.3&nbsp;&nbsp;</span>Show a route in map</a></span></li></ul></li><li><span><a href=\"#Attribution\" data-toc-modified-id=\"Attribution-6\"><span class=\"toc-item-num\">6&nbsp;&nbsp;</span>Attribution</a></span></li></ul></div>"
   ]
  },
  {
   "cell_type": "markdown",
   "metadata": {},
   "source": [
    "<div class=\"alert alert-danger\" role=\"alert\">\n",
    "    <span style=\"font-size:20px\">&#9888;</span> <span style=\"font-size:16px\">This is a read-only notebook! If you want to make and save changes, save a copy by clicking on <b>File</b> &#8594; <b>Save a copy</b>. If this is already a copy, you can delete this cell.</span>\n",
    "</div>"
   ]
  },
  {
   "cell_type": "markdown",
   "metadata": {},
   "source": [
    "<font color='red'>**IMPORTANT DISCLAIMER -- READ FIRST**</font>\n",
    "\n",
    "In this Notebook, we make use of API of HERE Maps as part of their Freemium service. Map content provided by HERE is subject to the HERE end-user terms, available at https://legal.here.com/en-gb/terms and the HERE privacy policy available at https://legal.here.com/en-gb/privacy. \n",
    "\n",
    "Generally, you may use HERE Maps to perform analysis to deliver to your clients. In the materials you deliver (e.g. PPT, Excel, etc.), make sure to **list HERE Maps as one of the sources**\n",
    "\n",
    "This script itself should not be handed over to the client. If your client requires code / scripts to make use of HERE Maps' API, then it is your and your client's responsibility to adhere to the HERE Maps terms and conditions.\n",
    "\n",
    "Map content provided by HERE is subject to the HERE end-user terms, available at https://legal.here.com/en-gb/terms and the HERE privacy policy available at https://legal.here.com/en-gb/privacy\n",
    "* You cannot modify, alter or tamper with any proprietary marks, rights notices or other notices, HERE trademarks, logos, etc.\n",
    "* All copyright, trademark and other intellectual property rights in the map content provided by HERE belongs to HERE. HERE's trademarks, logos, service marks, trade names and similar designations belong to HERE. \n",
    "\n",
    "More discussion on Terms and Conditions are here: https://owlabs.atlassian.net/wiki/spaces/MappingAssets/pages/2051014799/Third+Party+API+-+Terms+and+Conditions\n",
    "\n"
   ]
  },
  {
   "cell_type": "markdown",
   "metadata": {},
   "source": [
    "<h1>Table of Contents<span class=\"tocSkip\"></span></h1>\n",
    "<ul class=\"toc-item\"><li><span><a href=\"#Initial-Setup-of-HERE-Maps-account\" data-toc-modified-id=\"Initial-Setup-of-HERE-Maps-account-1\"><span class=\"toc-item-num\">1&nbsp;&nbsp;</span>Initial Setup of HERE Maps account</a></span></li><li><span><a href=\"#Reusable-functions\" data-toc-modified-id=\"Reusable-functions-2\"><span class=\"toc-item-num\">2&nbsp;&nbsp;</span>Reusable functions</a></span><ul class=\"toc-item\"><li><span><a href=\"#Geocoding\" data-toc-modified-id=\"Geocoding-2.1\"><span class=\"toc-item-num\">2.1&nbsp;&nbsp;</span>Geocoding</a></span></li><li><span><a href=\"#Calculate-route-distance-and-travel-times\" data-toc-modified-id=\"Calculate-route-distance-and-travel-times-2.2\"><span class=\"toc-item-num\">2.2&nbsp;&nbsp;</span>Calculate route distance and travel times</a></span></li><li><span><a href=\"#Matrix-Routing\" data-toc-modified-id=\"Matrix-Routing-2.3\"><span class=\"toc-item-num\">2.3&nbsp;&nbsp;</span>Matrix Routing</a></span></li><li><span><a href=\"#Utility-functions\" data-toc-modified-id=\"Utility-functions-2.4\"><span class=\"toc-item-num\">2.4&nbsp;&nbsp;</span>Utility functions</a></span></li></ul></li><li><span><a href=\"#Simple-examples-on-the-APIs-in-Section-2\" data-toc-modified-id=\"Simple-examples-on-the-APIs-in-Section-2-3\"><span class=\"toc-item-num\">3&nbsp;&nbsp;</span>Simple examples on the APIs in Section 2</a></span><ul class=\"toc-item\"><li><span><a href=\"#Geocoding---get-latitude-and-longitude-from-address\" data-toc-modified-id=\"Geocoding---get-latitude-and-longitude-from-address-3.1\"><span class=\"toc-item-num\">3.1&nbsp;&nbsp;</span>Geocoding - get latitude and longitude from address</a></span></li><li><span><a href=\"#Reverse-Geocoding---get-address-from-latitude,-longitude\" data-toc-modified-id=\"Reverse-Geocoding---get-address-from-latitude,-longitude-3.2\"><span class=\"toc-item-num\">3.2&nbsp;&nbsp;</span>Reverse Geocoding - get address from latitude, longitude</a></span></li><li><span><a href=\"#Search---find-addresses-satisfying-specific-conditions-near-a-latitude,-longitude\" data-toc-modified-id=\"Search---find-addresses-satisfying-specific-conditions-near-a-latitude,-longitude-3.3\"><span class=\"toc-item-num\">3.3&nbsp;&nbsp;</span>Search - find addresses satisfying specific conditions near a latitude, longitude</a></span></li><li><span><a href=\"#Distances-and-Time-between-points\" data-toc-modified-id=\"Distances-and-Time-between-points-3.4\"><span class=\"toc-item-num\">3.4&nbsp;&nbsp;</span>Distances and Time between points</a></span></li><li><span><a href=\"#Matrix-Routing\" data-toc-modified-id=\"Matrix-Routing-3.5\"><span class=\"toc-item-num\">3.5&nbsp;&nbsp;</span>Matrix Routing</a></span></li></ul></li><li><span><a href=\"#Worked-examples\" data-toc-modified-id=\"Worked-examples-4\"><span class=\"toc-item-num\">4&nbsp;&nbsp;</span>Worked examples</a></span><ul class=\"toc-item\"><li><span><a href=\"#Loading-in-a-list-of-addresses-to-convert-into-latitude-and-longitude\" data-toc-modified-id=\"Loading-in-a-list-of-addresses-to-convert-into-latitude-and-longitude-4.1\"><span class=\"toc-item-num\">4.1&nbsp;&nbsp;</span>Loading in a list of addresses to convert into latitude and longitude</a></span></li><li><span><a href=\"#Loading-in-a-table-of-journeys-(origin-and-destination)-and-calculating-the-distance-and-travel-times\" data-toc-modified-id=\"Loading-in-a-table-of-journeys-(origin-and-destination)-and-calculating-the-distance-and-travel-times-4.2\"><span class=\"toc-item-num\">4.2&nbsp;&nbsp;</span>Loading in a table of journeys (origin and destination) and calculating the distance and travel times</a></span></li><li><span><a href=\"#Generating-a-list-of-potential-journeys-from-a-single-list-of-addresses\" data-toc-modified-id=\"Generating-a-list-of-potential-journeys-from-a-single-list-of-addresses-4.3\"><span class=\"toc-item-num\">4.3&nbsp;&nbsp;</span>Generating a list of potential journeys from a single list of addresses</a></span></li></ul></li><li><span><a href=\"#Examples-with-map-images\" data-toc-modified-id=\"Examples-with-map-images-5\"><span class=\"toc-item-num\">5&nbsp;&nbsp;</span>Examples with map images</a></span><ul class=\"toc-item\"><li><span><a href=\"#View-a-map-piece-surrounding-a-latitude-and-longitude\" data-toc-modified-id=\"View-a-map-piece-surrounding-a-latitude-and-longitude-5.1\"><span class=\"toc-item-num\">5.1&nbsp;&nbsp;</span>View a map piece surrounding a latitude and longitude</a></span></li><li><span><a href=\"#Show-points-of-interest-in-map\" data-toc-modified-id=\"Show-points-of-interest-in-map-5.2\"><span class=\"toc-item-num\">5.2&nbsp;&nbsp;</span>Show points-of-interest in map</a></span></li><li><span><a href=\"#Show-a-route-in-map\" data-toc-modified-id=\"Show-a-route-in-map-5.3\"><span class=\"toc-item-num\">5.3&nbsp;&nbsp;</span>Show a route in map</a></span></li></ul></li><li><span><a href=\"#Attribution\" data-toc-modified-id=\"Attribution-6\"><span class=\"toc-item-num\">6&nbsp;&nbsp;</span>Attribution</a></span></li></ul>"
   ]
  },
  {
   "cell_type": "markdown",
   "metadata": {},
   "source": [
    "# Initial Setup of HERE Maps account"
   ]
  },
  {
   "cell_type": "markdown",
   "metadata": {},
   "source": [
    "This document makes use of the HERE Maps capabilities for geocoding, routing, etc. \n",
    "\n",
    "You can sign up for a free account at https://platform.here.com/portal/ and then find its APIs at https://developer.here.com/develop/rest-apis"
   ]
  },
  {
   "cell_type": "markdown",
   "metadata": {},
   "source": [
    "**Set your API and OAuth keys**\n",
    "\n",
    "Specifically, once you log on to https://platform.here.com/portal/ you click on access manager and create a new app https://platform.here.com/admin/apps"
   ]
  },
  {
   "cell_type": "markdown",
   "metadata": {},
   "source": [
    "![Application](Capture.PNG)"
   ]
  },
  {
   "cell_type": "markdown",
   "metadata": {},
   "source": [
    "Click on your app, under \"REST\" section of the project overview, click \"Create API key\" and \"Create credentials for OAuth 2.0, and store them on your computer."
   ]
  },
  {
   "attachments": {
    "Access.PNG": {
     "image/png": "[encoded data removed]"
    }
   },
   "cell_type": "markdown",
   "metadata": {},
   "source": [
    "![Access.PNG](attachment:Access.PNG)"
   ]
  },
  {
   "cell_type": "code",
   "execution_count": 1,
   "metadata": {
    "ExecuteTime": {
     "end_time": "2020-10-25T17:17:54.464735Z",
     "start_time": "2020-10-25T17:17:54.459734Z"
    }
   },
   "outputs": [],
   "source": [
    "# Enter the information about your keys here\n",
    "\n",
    "api_key='MCKr-hAs0Lwxu270psYsd8p6wd3D-NlyYSGO5p6b-yM' #'enter_your_api_key_here'\n",
    "\n",
    "access_key_id = \"enter_the_auth2_access_key_id_here\"\n",
    "access_key_secret = \"enter_the_long_access_key_secret_for_the_auth2_access_key_id_here\""
   ]
  },
  {
   "cell_type": "markdown",
   "metadata": {},
   "source": [
    "**NOTE: Only some of the applications requires you to use the access_key. Geocoding and basic routing does not require it**"
   ]
  },
  {
   "cell_type": "markdown",
   "metadata": {},
   "source": [
    "# Reusable functions\n",
    "\n",
    "This section provides reusable functions, **go ahead and run all cells in this section**, a quick way to run cells in succession is to click \"Shift-Enter\" repeatedly to run a cell and proceed to next cell\n",
    "\n",
    "This covers key functionality for:\n",
    "- Geocoding and Search. There are two APIs available, we have code for both, but using the former in examples:\n",
    "  - https://developer.here.com/documentation/geocoding-search-api/api-reference-swagger.html\n",
    "  - https://developer.here.com/documentation/geocoding-search-api/dev_guide/topics/quick-start.html\n",
    "- Routing: https://developer.here.com/documentation/routing-api/8.9.1/dev_guide/index.html\n",
    "- Matrix Routing: https://developer.here.com/documentation/matrix-routing-api/dev_guide/index.html\n",
    "\n",
    "This covers only a part of HERE API's functionality, see here: https://developer.here.com/documentation"
   ]
  },
  {
   "cell_type": "code",
   "execution_count": 8,
   "metadata": {
    "ExecuteTime": {
     "end_time": "2020-11-12T16:42:20.804742Z",
     "start_time": "2020-11-12T16:42:20.799738Z"
    }
   },
   "outputs": [],
   "source": [
    "# Key Python libraries\n",
    "import requests\n",
    "import pandas as pd\n",
    "import json\n",
    "import base64\n",
    "import os\n",
    "\n",
    "# Suppress a specific warning related to not using SSL verify\n",
    "import warnings\n",
    "warnings.filterwarnings(\"ignore\", message=\"Unverified HTTPS request is being made to host\")"
   ]
  },
  {
   "cell_type": "markdown",
   "metadata": {},
   "source": [
    "## Geocoding\n",
    "\n",
    "Here we cover the following:\n",
    "- Get latitude and longitude from an address (and also get information such as country for sense checking)\n",
    "- Get address at or nearest to a given latitude and longitude (including information such as country)\n",
    "- Find nearby addresses to a given latitude and longitude matching based on different filters, such as categories or name, ranked by distance from a given search center\n",
    "\n",
    "More capabilities can be found at \n",
    "- https://developer.here.com/documentation/geocoding-search-api/api-reference-swagger.html\n",
    "- https://developer.here.com/documentation/geocoding-search-api/dev_guide/topics/endpoints-overview.html (this is the 'otherAPI' referred to by code below)\n",
    "\n",
    "such as:\n",
    "- Enter a free-form text query for an address or place, and to find results in order of relevance.\n",
    "- Suggest address or place candidates based on an incomplete or misspelled query, from which the user selects the best query to submit\n",
    "- Look up a known place by the HERE ID included in the request."
   ]
  },
  {
   "cell_type": "code",
   "execution_count": 10,
   "metadata": {
    "ExecuteTime": {
     "end_time": "2020-10-26T00:11:29.450825Z",
     "start_time": "2020-10-26T00:11:29.432825Z"
    },
    "code_folding": [
     1
    ]
   },
   "outputs": [],
   "source": [
    "# Latitude and longitude from address\n",
    "def get_latlong(address, api_key, summarize=True, limit=1):\n",
    "    \"\"\"\n",
    "    This pulls the latlong associated with an address, as well as more information about the address itself \n",
    "    (such as country, state) and the confidence.\n",
    "    \n",
    "    The output is a list containing the outputs from the API call, summarized into a simple dictionary if requested. \n",
    "    The length of the list depends on how many latitudes/longitudes are requested (using the limit argument), ordered by score.\n",
    "    \n",
    "    The 'string' key in the dictionary provides the output in the format \"latitude,longitude\", and forms the basis for most requests that requires latlong\n",
    "    \"\"\"\n",
    "    \n",
    "    URL='https://geocode.search.hereapi.com/v1/geocode'\n",
    "    PARAMS={'apikey':api_key,'q':address, 'limit': limit, \n",
    "            'responseattributes': \"[matchQuality, matchType, matchCode]\"}\n",
    "    r=requests.get(url=URL,params=PARAMS, verify=False)\n",
    "    \n",
    "    if len(r.json()['items']) == 0:\n",
    "        return [{\n",
    "                'lat':\"\", \n",
    "                'long':\"\", \n",
    "                'string':\"ERROR\",\n",
    "                'country': \"\", \n",
    "                'state': \"\", \n",
    "                'address': \"\",\n",
    "                'score': 0}]\n",
    "    \n",
    "    out=r.json()['items']\n",
    "    \n",
    "    if summarize:\n",
    "        output = list()\n",
    "        for i in range(len(out)):\n",
    "            this_item = out[i]\n",
    "            \n",
    "            latitude = this_item['position']['lat']\n",
    "            longitude = this_item['position']['lng']\n",
    "            output.append({\n",
    "                'lat':latitude, \n",
    "                'long':longitude, \n",
    "                'string':str(latitude)+','+str(longitude),\n",
    "                'country': this_item['address']['countryName'], \n",
    "                'state': this_item['address'].get('state'), \n",
    "                'address': this_item['address']['label'],\n",
    "                'relevance': this_item['scoring']['queryScore'],\n",
    "                'match_quality_country': this_item['scoring']['fieldScore'].get('country'),\n",
    "                'match_quality_state': this_item['scoring']['fieldScore'].get('state'),\n",
    "                'match_quality_district': this_item['scoring']['fieldScore'].get('district'),\n",
    "                'match_quality_city': this_item['scoring']['fieldScore'].get('city'),\n",
    "                'match_quality_street': this_item['scoring']['fieldScore'].get('streets')[0] if this_item['scoring']['fieldScore'].get('streets') is not None else None,\n",
    "                'match_quality_number': this_item['scoring']['fieldScore'].get('houseNumber'),\n",
    "                'match_quality_postal_code': this_item['scoring']['fieldScore'].get('postalCode'),\n",
    "            })\n",
    "        return output\n",
    "    else:\n",
    "        return out\n",
    "\n",
    "# #### Example usage\n",
    "# get_latlong('1600 pennsylvania ave, Washington, DC', api_key, limit=3)"
   ]
  },
  {
   "cell_type": "code",
   "execution_count": 305,
   "metadata": {
    "ExecuteTime": {
     "end_time": "2020-10-26T00:11:29.745828Z",
     "start_time": "2020-10-26T00:11:29.727825Z"
    },
    "code_folding": [
     1
    ]
   },
   "outputs": [],
   "source": [
    "# Latitude and longitude from address. This uses the Geocoding API\n",
    "def get_latlong_otherAPI(address, api_key, summarize=True, limit=1):\n",
    "    \"\"\"\n",
    "    This pulls the latlong associated with an address, as well as more information about the address itself \n",
    "    (such as country, state) and the confidence.\n",
    "    \n",
    "    The output is a list containing the outputs from the API call, summarized into a simple dictionary if requested. \n",
    "    The length of the list depends on how many latitudes/longitudes are requested (using the limit argument), ordered by score.\n",
    "    \n",
    "    The 'string' key in the dictionary provides the output in the format \"latitude,longitude\", and forms the basis for most requests that requires latlong\n",
    "    \"\"\"\n",
    "    \n",
    "    # https://developer.here.com/documentation/geocoding-search-api/dev_guide/topics/endpoint-geocode-brief.html\n",
    "    URL='https://geocoder.ls.hereapi.com/6.2/geocode.json'\n",
    "    PARAMS={'apikey':api_key,'searchtext':address}\n",
    "    \n",
    "    r=requests.get(url=URL,params=PARAMS, verify=False)\n",
    "    out=r.json()['Response']['View']\n",
    "    \n",
    "    if len(out) == 0:\n",
    "        return [{\n",
    "                'lat':\"\", \n",
    "                'long':\"\", \n",
    "                'string':\"ERROR\",\n",
    "                'country': \"\", \n",
    "                'state': \"\", \n",
    "                'address': \"\",\n",
    "                'relevance': 0}]\n",
    "    \n",
    "    if summarize:\n",
    "        output = list()\n",
    "        for i in range(min(limit, len(out[0]['Result']))):\n",
    "            this_item = out[0]['Result'][i]\n",
    "            \n",
    "            latitude = this_item['Location']['DisplayPosition']['Latitude']\n",
    "            longitude = this_item['Location']['DisplayPosition']['Longitude']\n",
    "            output.append({\n",
    "                'lat':latitude, \n",
    "                'long':longitude, \n",
    "                'string':str(latitude)+','+str(longitude),\n",
    "                'country': this_item['Location']['Address']['Country'], \n",
    "                'state': this_item['Location']['Address'].get('State'), \n",
    "                'city': this_item['Location']['Address'].get('City'), \n",
    "                'address': this_item['Location']['Address']['Label'],\n",
    "                'relevance': this_item['Relevance'],\n",
    "                'match_quality_country': this_item['MatchQuality'].get('Country'),\n",
    "                'match_quality_state': this_item['MatchQuality'].get('State'),\n",
    "                'match_quality_district': this_item['MatchQuality'].get('District'),\n",
    "                'match_quality_city': this_item['MatchQuality'].get('City'),\n",
    "                'match_quality_street': this_item['MatchQuality'].get('Street')[0] if this_item['MatchQuality'].get('Street') is not None else None,\n",
    "                'match_quality_number': this_item['MatchQuality'].get('HouseNumber'),\n",
    "                'match_quality_postal_code': this_item['MatchQuality'].get('PostalCode'),\n",
    "            })\n",
    "        return output\n",
    "    else:\n",
    "        n_results = min(limit, len(out[0]['Results']))\n",
    "        \n",
    "        return out[0]['Result'][:n_results]\n",
    "\n",
    "#### Example usage\n",
    "# get_latlong_otherAPI('1600 pennsylvania ave, Washington, DC', api_key, limit=1)"
   ]
  },
  {
   "cell_type": "code",
   "execution_count": 212,
   "metadata": {
    "ExecuteTime": {
     "end_time": "2020-10-25T22:30:42.960140Z",
     "start_time": "2020-10-25T22:30:42.944140Z"
    },
    "code_folding": [
     1
    ]
   },
   "outputs": [],
   "source": [
    "# Address from latitude and longitude. REVERSE GEOCODE \n",
    "def get_address(latlong, api_key, summarize=True, limit=1):\n",
    "    \"\"\"\n",
    "    latlong should be in the format \"{latitude},{longitude}\"\n",
    "    limit is the number of nearest addresses to generate\n",
    "    \n",
    "    The output is a list containing the outputs from the API call, summarized into a simple dictionary if requested. \n",
    "    The length of the list depends on how many addresses were requested (using the limit argument), ordered by distance to the latlong coordinates.\n",
    "    \n",
    "    \"\"\"\n",
    "    URL='https://geocode.search.hereapi.com/v1/revgeocode'\n",
    "    PARAMS={'apikey':api_key,'at':latlong, 'limit':limit}\n",
    "    r=requests.get(url=URL,params=PARAMS, verify=False)\n",
    "\n",
    "    if len(r.json()['items']) == 0:\n",
    "        return [\n",
    "            {\n",
    "                \"address\": \"\",\n",
    "                \"country\": \"\",\n",
    "                \"state\": \"\",\n",
    "                \"city\": \"\",\n",
    "                \"street\": \"\",\n",
    "                \"postalCode\": \"\",\n",
    "                \"latitude\": \"ERROR\",\n",
    "                \"longitude\": \"ERROR\"\n",
    "            }\n",
    "        ]\n",
    "    \n",
    "    if summarize:\n",
    "        output = list()\n",
    "        for i in range(len(r.json()['items'])):\n",
    "            this_item = r.json()['items'][i]\n",
    "            this_address = this_item['address']\n",
    "            output.append({\n",
    "                \"address\": this_address['label'],\n",
    "                \"country\": this_address['countryName'],\n",
    "                \"state\": this_address.get('state'),\n",
    "                \"city\": this_address.get('city'),\n",
    "                \"street\": this_address.get('street'),\n",
    "                \"postalCode\": this_address['postalCode'],\n",
    "                \"latitude\": this_item['position']['lat'],\n",
    "                \"longitude\": this_item['position']['lng']\n",
    "            })\n",
    "        return output\n",
    "        \n",
    "    else:\n",
    "        return r.json()['items']\n",
    "    \n",
    "#### Example usage\n",
    "# get_address(\"38.8789,-76\", api_key, limit=2)\n",
    "# get_address(\"38.8789,-76\", api_key, summarize=False)"
   ]
  },
  {
   "cell_type": "code",
   "execution_count": 213,
   "metadata": {
    "ExecuteTime": {
     "end_time": "2020-10-25T22:30:47.123036Z",
     "start_time": "2020-10-25T22:30:47.111030Z"
    },
    "code_folding": [
     1
    ]
   },
   "outputs": [],
   "source": [
    "# Find nearby addresses based on filters for type of location\n",
    "def browse_address(latlong, api_key, categories=None, names=None, summarize=True, limit=1):\n",
    "    \"\"\"\n",
    "    latlong should be in the format \"{latitude},{longitude}\"\n",
    "    categories should be a comma-separated list of category-Ids from here: https://developer.here.com/documentation/places/dev_guide/topics/place_categories/places-category-system.html \n",
    "    names should be a geographic area (country, circular shape, box), see: https://developer.here.com/documentation/geocoding-search-api/api-reference-swagger.html under Browse\n",
    "    limit is the number of nearest addresses to generate\n",
    "    \n",
    "    \n",
    "    \"\"\"\n",
    "    URL='https://geocode.search.hereapi.com/v1/browse'\n",
    "    PARAMS={'apikey':api_key,'at':latlong, 'limit':limit}\n",
    "    if categories is not None:\n",
    "        PARAMS['categories'] = categories\n",
    "    if names is not None:\n",
    "        PARAMS['names'] = names\n",
    "    \n",
    "    r=requests.get(url=URL,params=PARAMS, verify=False)\n",
    "    if len(r.json()['items']) == 0:\n",
    "        return [{\n",
    "                \"address\": this_address['label'],\n",
    "                \"country\": this_address['countryName'],\n",
    "                \"state\": this_address.get('state'),\n",
    "                \"city\": this_address.get('city'),\n",
    "                \"street\": this_address.get('street'),\n",
    "                \"postalCode\": this_address['postalCode'],\n",
    "                \"latitude\": this_item['position']['lat'],\n",
    "                \"longitude\": this_item['position']['lng']\n",
    "            }]\n",
    "    \n",
    "    if summarize:\n",
    "        output = list()\n",
    "        for i in range(len(r.json()['items'])):\n",
    "            this_item = r.json()['items'][i]\n",
    "            this_address = this_item['address']\n",
    "            output.append({\n",
    "                \"address\": this_address['label'],\n",
    "                \"country\": this_address['countryName'],\n",
    "                \"state\": this_address.get('state'),\n",
    "                \"city\": this_address.get('city'),\n",
    "                \"street\": this_address.get('street'),\n",
    "                \"postalCode\": this_address['postalCode'],\n",
    "                \"latitude\": this_item['position']['lat'],\n",
    "                \"longitude\": this_item['position']['lng'], \n",
    "            })\n",
    "        return output\n",
    "        \n",
    "    else:\n",
    "        return r.json()['items']\n",
    "    \n",
    "#### Example usage\n",
    "# browse_address(\"38.8789,-76\", api_key, limit=2)\n",
    "# browse_address(\"38.8789,-76\", api_key, categories=\"600-6100-0062,600-6200-0063\", limit=2)"
   ]
  },
  {
   "cell_type": "markdown",
   "metadata": {},
   "source": [
    "## Calculate route distance and travel times\n",
    "\n",
    "Calculates distances and travel times between Point A to Point B based on real routes. Locations are supplied as \"Latitude,Longitude\" strings.\n",
    "\n",
    "This provides:\n",
    "* Base function, for any transportMode (pedestrian, car, truck, bicycle, scooter)\n",
    "* Convenience wrappers for generating summary output, converting to miles (default is in meters), specific function for car, walking, etc."
   ]
  },
  {
   "cell_type": "code",
   "execution_count": 224,
   "metadata": {
    "ExecuteTime": {
     "end_time": "2020-10-25T22:43:50.012659Z",
     "start_time": "2020-10-25T22:43:50.007656Z"
    },
    "code_folding": [
     1
    ]
   },
   "outputs": [],
   "source": [
    "# Basic API call for getting the driving distance (in meters) and duration (in seconds) for any eligible transport mode\n",
    "def get_route_info(origin, destination, api_key, transportMode):\n",
    "    \"\"\"\n",
    "    origin and destination should be in a string \"latitude,longitude\"\n",
    "    transportMode can be 'pedestrian', 'car', 'truck', 'bicycle' or 'scooter'\n",
    "    outputs provided are in meters and seconds\n",
    "    \"\"\"\n",
    "    # Checks\n",
    "    assert transportMode in ['pedestrian', 'car', 'truck', 'bicycle', 'scooter'], \"Invalid value for transportMode. Should be one of 'pedestrian', 'car', 'truck', 'bicycle' or 'scooter'\"\n",
    "    \n",
    "    # Code for requests\n",
    "    URL = \"https://router.hereapi.com/v8/routes\"\n",
    "    PARAMS = {'apikey':api_key,\n",
    "              'transportMode':transportMode,\n",
    "              'origin':origin,\n",
    "              'destination':destination,\n",
    "              'return':'summary'} \n",
    "    r=requests.get(url=URL,params=PARAMS, verify=False)\n",
    "    out=r.json()\n",
    "    return out\n",
    "\n",
    "#### Example\n",
    "# get_route_info(get_latlong('6649 N Blue Gum St New Orleans LA',api_key)[0]['string'],\n",
    "#               get_latlong('1600 pennsylvania ave, Washington, DC',api_key)[0]['string'],api_key, 'car')\n"
   ]
  },
  {
   "cell_type": "code",
   "execution_count": 293,
   "metadata": {
    "ExecuteTime": {
     "end_time": "2020-10-25T23:55:35.202008Z",
     "start_time": "2020-10-25T23:55:35.187007Z"
    },
    "code_folding": [
     1,
     18,
     28,
     38
    ]
   },
   "outputs": [],
   "source": [
    "#### Wrapper functions for routing\n",
    "def process_routing(out, summary_only, mile_or_meter):\n",
    "    # Check successful output\n",
    "    if out.get('status') is not None:\n",
    "        return {'duration': None, 'length': None, 'baseDuration': None}\n",
    "    \n",
    "    if len(out['routes']) is 0:\n",
    "        return {'duration': None, 'length': None, 'baseDuration': None}\n",
    "    \n",
    "    if mile_or_meter is \"mile\":\n",
    "        out['routes'][0]['sections'][0]['summary']['length'] = out['routes'][0]['sections'][0]['summary']['length'] / 1609.34\n",
    "    \n",
    "    if summary_only:\n",
    "        return out['routes'][0]['sections'][0]['summary']\n",
    "    else:\n",
    "        return out\n",
    "\n",
    "# Driving distance\n",
    "def get_driving_info(origin, destination, api_key, summary_only=True, mile_or_meter=\"mile\"):\n",
    "    # Checks\n",
    "    assert mile_or_meter in ['mile', 'meter'], \"Invalid value for mile_or_meter. Should be either 'mile' or 'meter'\"\n",
    "    assert summary_only in [True, False], \"Invalid value for summary_only. Should be a Boolean\"\n",
    "    \n",
    "    out = get_route_info(origin, destination, api_key, 'car')\n",
    "    \n",
    "    return process_routing(out, summary_only, mile_or_meter)\n",
    "\n",
    "# Walking distance\n",
    "def get_walking_info(origin, destination, api_key, summary_only=True, mile_or_meter=\"mile\"):\n",
    "    # Checks\n",
    "    assert mile_or_meter in ['mile', 'meter'], \"Invalid value for mile_or_meter. Should be either 'mile' or 'meter'\"\n",
    "    assert summary_only in [True, False], \"Invalid value for summary_only. Should be a Boolean\"\n",
    "    \n",
    "    out = get_route_info(origin, destination, api_key, 'pedestrian')\n",
    "    \n",
    "    return process_routing(out, summary_only, mile_or_meter)\n",
    "\n",
    "# Any routing distance\n",
    "def get_any_routing_info(origin, destination, api_key, transportMode, summary_only=True, mile_or_meter=\"mile\"):\n",
    "    # Checks\n",
    "    assert mile_or_meter in ['mile', 'meter'], \"Invalid value for mile_or_meter. Should be either 'mile' or 'meter'\"\n",
    "    assert summary_only in [True, False], \"Invalid value for summary_only. Should be a Boolean\"\n",
    "    assert transportMode in ['pedestrian', 'car', 'truck', 'bicycle', 'scooter'], \"Invalid value for transportMode. Should be one of 'pedestrian', 'car', 'truck', 'bicycle' or 'scooter'\"\n",
    "    \n",
    "    out = get_route_info(origin, destination, api_key, transportMode)\n",
    "    \n",
    "    return process_routing(out, summary_only, mile_or_meter)\n"
   ]
  },
  {
   "cell_type": "markdown",
   "metadata": {},
   "source": [
    "## Matrix Routing\n",
    "\n",
    "As described in https://developer.here.com/documentation/matrix-routing-api/dev_guide/index.html, Matrix Routing calculates routing matrices of up to 10,000 origins and 10,000 destinations.\n",
    "\n",
    "**For fewer distance pairs, we recommend using the typical routing API applied to a pandas table with location info**\n",
    "\n",
    "A routing matrix is a matrix with rows labeled by origins and columns by destinations. Each entry of the matrix is travel time or distance from the origin to the destination.\n",
    "\n",
    "The Matrix Routing service provides the following features:\n",
    "\n",
    "- Large number of origins and destinations (up to 10,000)\n",
    "- Live traffic and historical speed patterns\n",
    "- Car, Truck and Pedestrian modes\n",
    "- Truck attributes such as dimensions, weight, tunnel restrictions and more\n",
    "- Avoiding areas and routing features, e.g., toll roads, ferries and motorways.\n",
    "- Choice between synchronous and asynchronous APIs for flexible result downloads\n",
    "\n",
    "**IMPORTANT: To use this, you need a temporary access token**\n",
    "Access tokens are requested using your access_key_id and access_key_secret, and lasts 24 hours. You need to follow the instructions to get a token:\n",
    "https://developer.here.com/documentation/authentication/dev_guide/topics/using-postman.html#using-postman"
   ]
  },
  {
   "cell_type": "code",
   "execution_count": 33,
   "metadata": {
    "ExecuteTime": {
     "end_time": "2020-10-25T19:07:57.344859Z",
     "start_time": "2020-10-25T19:07:57.316858Z"
    },
    "code_folding": [
     3
    ]
   },
   "outputs": [],
   "source": [
    "# This code calculate distances between a large number of origins and destinations, using a matrix (pairwise distance) method\n",
    "# For more configurations, see https://developer.here.com/documentation/matrix-routing-api/api-reference-swagger.html\n",
    "\n",
    "def calculate_matrix_routing(\n",
    "    api_key, access_token,\n",
    "    origins, destinations=None, regionDefinition={\"type\": \"world\"}, profile=None, **kwargs):\n",
    "    \"\"\"\n",
    "    origins is a provided as a pandas dataframe with columns \"longitude\" and \"latitude\"\n",
    "    destinations can either be empty (in which case pairwise distances within origins is used) or also a pandas dataframe with columns \"longitude\" and \"latitude\"\n",
    "    \n",
    "    For regionDefinition, profile and any other arguments, see documentation at https://developer.here.com/documentation/matrix-routing-api/api-reference-swagger.html  \n",
    "    \"\"\"\n",
    "\n",
    "    URL = \"https://matrix.router.hereapi.com/v8/matrix?async=false\"\n",
    "    PARAMS = {'apikey': api_key,\n",
    "              'bearerAuth': access_token\n",
    "             } \n",
    "    \n",
    "    # Prepare the data\n",
    "    origins_dict = origins[[\"latitude\", \"longitude\"]].rename(columns={\"latitude\":\"lat\", \"longitude\":\"lng\"}).to_dict(orient='records')\n",
    "    if destinations is not None:\n",
    "        destinations_dict = destinations[[\"latitude\", \"longitude\"]].rename(columns={\"latitude\":\"lat\", \"longitude\":\"lng\"}).to_dict(orient='records')\n",
    "    else:\n",
    "        destinations_dict = None\n",
    "    \n",
    "    DATA = {\n",
    "        'origins': origins_dict,\n",
    "        'regionDefinition': regionDefinition,\n",
    "        'matrixAttributes': [\"travelTimes\", \"distances\"]\n",
    "    }\n",
    "    \n",
    "    if destinations_dict is not None:\n",
    "        DATA['destinations'] = destinations_dict\n",
    "    \n",
    "    if profile is not None:\n",
    "        DATA['profile'] = profile\n",
    "    \n",
    "    if len(kwargs):\n",
    "        DATA.update(kwargs)\n",
    "    \n",
    "    r=requests.post(url=URL,data=json.dumps(DATA),params=PARAMS, verify=False)\n",
    "    out=r.json()\n",
    "    \n",
    "    # Check for errors\n",
    "    if out.get('status') is not None:\n",
    "        print(\"Error: {}\".format(out))\n",
    "        return None\n",
    "    \n",
    "    if destinations is None:\n",
    "        destinations = origins\n",
    "        \n",
    "    origins = origins[['latitude', 'longitude']]\n",
    "    origins['orig_index'] = range(origins.shape[0])\n",
    "    \n",
    "    destinations = destinations[['latitude', 'longitude']]\n",
    "    destinations['dest_index'] = range(destinations.shape[0])\n",
    "    \n",
    "    # Cartesian join\n",
    "    output = pd.merge(origins.assign(key=0), destinations.assign(key=0), on='key').drop('key', axis=1)\n",
    "    output = output.sort_values(by=['orig_index', 'dest_index'])\n",
    "    \n",
    "    output['travelTimes'] = out['matrix']['travelTimes']\n",
    "    output['distances'] = out['matrix']['distances']\n",
    "    output['errorCodes'] = 0\n",
    "    if out['matrix'].get('errorCodes') is not None:\n",
    "        output['errorCodes'] = out['matrix'].get('errorCodes')\n",
    "    \n",
    "    metadata = {\n",
    "        'matrixId': out['matrixId'],\n",
    "        'numOrigins': out['matrix']['numOrigins'],\n",
    "        'numDestinations': out['matrix']['numDestinations'],\n",
    "        'regionDefinition': out['regionDefinition']\n",
    "    }\n",
    "    \n",
    "    return output, metadata"
   ]
  },
  {
   "cell_type": "markdown",
   "metadata": {},
   "source": [
    "## Utility functions\n",
    "\n",
    "This provides a variety of utility functions to make data manipulations and calculations easier"
   ]
  },
  {
   "cell_type": "code",
   "execution_count": 288,
   "metadata": {
    "ExecuteTime": {
     "end_time": "2020-10-25T23:50:54.325067Z",
     "start_time": "2020-10-25T23:50:54.316066Z"
    },
    "code_folding": [
     1
    ]
   },
   "outputs": [],
   "source": [
    "# Generate all pairwise combinations between items in a list\n",
    "def all_combinations(data, unique=True, include_same=False):\n",
    "    \"\"\"\n",
    "    Providing a list or Pandas Series of data, get all unique combinations.\n",
    "    unique removes duplicates (e.g. #1 paired with #2 is identical to #2 paired with #1)\n",
    "    include_same keeps self-pairing (e.g. #1 paired with #1) \n",
    "    \"\"\"\n",
    "    \n",
    "    if isinstance(data, pd.Series): data = data.tolist()\n",
    "    \n",
    "    dataset1 = pd.DataFrame(data, columns=[\"Input1\"])\n",
    "    dataset1['Index1'] = range(dataset1.shape[0])\n",
    "    dataset2 = pd.DataFrame(data, columns=[\"Input2\"])\n",
    "    dataset2['Index2'] = range(dataset2.shape[0])\n",
    "    \n",
    "    # Cartesian join\n",
    "    output = pd.merge(dataset1.assign(key=0), dataset2.assign(key=0), on='key').drop('key', axis=1)\n",
    "    output = output.sort_values(by=['Index1', 'Index2'])\n",
    "    \n",
    "    if unique: \n",
    "        output = output[output['Index1'] <= output['Index2']]\n",
    "    \n",
    "    if not include_same:\n",
    "        output = output[output['Index1'] != output['Index2']]\n",
    "    \n",
    "    output = output.reset_index(drop=True)\n",
    "    \n",
    "    return output[[\"Input1\", \"Input2\", \"Index1\", \"Index2\"]]"
   ]
  },
  {
   "cell_type": "markdown",
   "metadata": {},
   "source": [
    "# Simple examples on the APIs in Section 2\n",
    "\n",
    "This provides simple illustrations of running the functions generated in Section 2. For practical examples, see Section 4. This is mostly for you to understand how the functions work"
   ]
  },
  {
   "cell_type": "markdown",
   "metadata": {},
   "source": [
    "## Geocoding - get latitude and longitude from address"
   ]
  },
  {
   "cell_type": "code",
   "execution_count": 307,
   "metadata": {
    "ExecuteTime": {
     "end_time": "2020-10-26T00:11:51.280970Z",
     "start_time": "2020-10-26T00:11:51.018967Z"
    }
   },
   "outputs": [
    {
     "data": {
      "text/html": [
       "<div>\n",
       "<style scoped>\n",
       "    .dataframe tbody tr th:only-of-type {\n",
       "        vertical-align: middle;\n",
       "    }\n",
       "\n",
       "    .dataframe tbody tr th {\n",
       "        vertical-align: top;\n",
       "    }\n",
       "\n",
       "    .dataframe thead th {\n",
       "        text-align: right;\n",
       "    }\n",
       "</style>\n",
       "<table border=\"1\" class=\"dataframe\">\n",
       "  <thead>\n",
       "    <tr style=\"text-align: right;\">\n",
       "      <th></th>\n",
       "      <th>lat</th>\n",
       "      <th>long</th>\n",
       "      <th>string</th>\n",
       "      <th>country</th>\n",
       "      <th>state</th>\n",
       "      <th>address</th>\n",
       "      <th>relevance</th>\n",
       "      <th>match_quality_country</th>\n",
       "      <th>match_quality_state</th>\n",
       "      <th>match_quality_district</th>\n",
       "      <th>match_quality_city</th>\n",
       "      <th>match_quality_street</th>\n",
       "      <th>match_quality_number</th>\n",
       "      <th>match_quality_postal_code</th>\n",
       "    </tr>\n",
       "  </thead>\n",
       "  <tbody>\n",
       "    <tr>\n",
       "      <th>0</th>\n",
       "      <td>44.96725</td>\n",
       "      <td>-93.37659</td>\n",
       "      <td>44.96725,-93.37659</td>\n",
       "      <td>United States</td>\n",
       "      <td>Minnesota</td>\n",
       "      <td>1600 Pennsylvania Ave S, Minneapolis, MN 55426...</td>\n",
       "      <td>0.99</td>\n",
       "      <td>1.0</td>\n",
       "      <td>None</td>\n",
       "      <td>None</td>\n",
       "      <td>None</td>\n",
       "      <td>0.82</td>\n",
       "      <td>1.0</td>\n",
       "      <td>None</td>\n",
       "    </tr>\n",
       "    <tr>\n",
       "      <th>1</th>\n",
       "      <td>39.74183</td>\n",
       "      <td>-104.98084</td>\n",
       "      <td>39.74183,-104.98084</td>\n",
       "      <td>United States</td>\n",
       "      <td>Colorado</td>\n",
       "      <td>1600 N Pennsylvania St, Denver, CO 80203-1303,...</td>\n",
       "      <td>0.99</td>\n",
       "      <td>1.0</td>\n",
       "      <td>None</td>\n",
       "      <td>None</td>\n",
       "      <td>None</td>\n",
       "      <td>0.82</td>\n",
       "      <td>1.0</td>\n",
       "      <td>None</td>\n",
       "    </tr>\n",
       "    <tr>\n",
       "      <th>2</th>\n",
       "      <td>42.71499</td>\n",
       "      <td>-84.53850</td>\n",
       "      <td>42.71499,-84.5385</td>\n",
       "      <td>United States</td>\n",
       "      <td>Michigan</td>\n",
       "      <td>1600 S Pennsylvania Ave, Lansing, MI 48910-186...</td>\n",
       "      <td>0.99</td>\n",
       "      <td>1.0</td>\n",
       "      <td>None</td>\n",
       "      <td>None</td>\n",
       "      <td>None</td>\n",
       "      <td>0.82</td>\n",
       "      <td>1.0</td>\n",
       "      <td>None</td>\n",
       "    </tr>\n",
       "    <tr>\n",
       "      <th>3</th>\n",
       "      <td>34.88685</td>\n",
       "      <td>-99.50407</td>\n",
       "      <td>34.88685,-99.50407</td>\n",
       "      <td>United States</td>\n",
       "      <td>Oklahoma</td>\n",
       "      <td>1600 N Pennsylvania Ave, Mangum, OK 73554-1442...</td>\n",
       "      <td>0.99</td>\n",
       "      <td>1.0</td>\n",
       "      <td>None</td>\n",
       "      <td>None</td>\n",
       "      <td>None</td>\n",
       "      <td>0.82</td>\n",
       "      <td>1.0</td>\n",
       "      <td>None</td>\n",
       "    </tr>\n",
       "  </tbody>\n",
       "</table>\n",
       "</div>"
      ],
      "text/plain": [
       "        lat       long               string        country      state  \\\n",
       "0  44.96725  -93.37659   44.96725,-93.37659  United States  Minnesota   \n",
       "1  39.74183 -104.98084  39.74183,-104.98084  United States   Colorado   \n",
       "2  42.71499  -84.53850    42.71499,-84.5385  United States   Michigan   \n",
       "3  34.88685  -99.50407   34.88685,-99.50407  United States   Oklahoma   \n",
       "\n",
       "                                             address  relevance  \\\n",
       "0  1600 Pennsylvania Ave S, Minneapolis, MN 55426...       0.99   \n",
       "1  1600 N Pennsylvania St, Denver, CO 80203-1303,...       0.99   \n",
       "2  1600 S Pennsylvania Ave, Lansing, MI 48910-186...       0.99   \n",
       "3  1600 N Pennsylvania Ave, Mangum, OK 73554-1442...       0.99   \n",
       "\n",
       "   match_quality_country match_quality_state match_quality_district  \\\n",
       "0                    1.0                None                   None   \n",
       "1                    1.0                None                   None   \n",
       "2                    1.0                None                   None   \n",
       "3                    1.0                None                   None   \n",
       "\n",
       "  match_quality_city  match_quality_street  match_quality_number  \\\n",
       "0               None                  0.82                   1.0   \n",
       "1               None                  0.82                   1.0   \n",
       "2               None                  0.82                   1.0   \n",
       "3               None                  0.82                   1.0   \n",
       "\n",
       "  match_quality_postal_code  \n",
       "0                      None  \n",
       "1                      None  \n",
       "2                      None  \n",
       "3                      None  "
      ]
     },
     "execution_count": 307,
     "metadata": {},
     "output_type": "execute_result"
    }
   ],
   "source": [
    "#### Get single latitude and longitude from address\n",
    "pd.DataFrame.from_dict(get_latlong('1600 pennsylvania, USA',api_key, limit=4))"
   ]
  },
  {
   "cell_type": "code",
   "execution_count": 308,
   "metadata": {
    "ExecuteTime": {
     "end_time": "2020-10-26T00:11:55.055996Z",
     "start_time": "2020-10-26T00:11:54.790995Z"
    }
   },
   "outputs": [
    {
     "data": {
      "text/html": [
       "<div>\n",
       "<style scoped>\n",
       "    .dataframe tbody tr th:only-of-type {\n",
       "        vertical-align: middle;\n",
       "    }\n",
       "\n",
       "    .dataframe tbody tr th {\n",
       "        vertical-align: top;\n",
       "    }\n",
       "\n",
       "    .dataframe thead th {\n",
       "        text-align: right;\n",
       "    }\n",
       "</style>\n",
       "<table border=\"1\" class=\"dataframe\">\n",
       "  <thead>\n",
       "    <tr style=\"text-align: right;\">\n",
       "      <th></th>\n",
       "      <th>lat</th>\n",
       "      <th>long</th>\n",
       "      <th>string</th>\n",
       "      <th>country</th>\n",
       "      <th>state</th>\n",
       "      <th>city</th>\n",
       "      <th>address</th>\n",
       "      <th>relevance</th>\n",
       "      <th>match_quality_country</th>\n",
       "      <th>match_quality_state</th>\n",
       "      <th>match_quality_district</th>\n",
       "      <th>match_quality_city</th>\n",
       "      <th>match_quality_street</th>\n",
       "      <th>match_quality_number</th>\n",
       "      <th>match_quality_postal_code</th>\n",
       "    </tr>\n",
       "  </thead>\n",
       "  <tbody>\n",
       "    <tr>\n",
       "      <th>0</th>\n",
       "      <td>40.74574</td>\n",
       "      <td>-79.92536</td>\n",
       "      <td>40.74574,-79.92536</td>\n",
       "      <td>USA</td>\n",
       "      <td>PA</td>\n",
       "      <td>Butler</td>\n",
       "      <td>16002, Butler, PA, United States</td>\n",
       "      <td>0.96</td>\n",
       "      <td>1.0</td>\n",
       "      <td>1.0</td>\n",
       "      <td>None</td>\n",
       "      <td>None</td>\n",
       "      <td>None</td>\n",
       "      <td>None</td>\n",
       "      <td>0.82</td>\n",
       "    </tr>\n",
       "    <tr>\n",
       "      <th>1</th>\n",
       "      <td>41.11424</td>\n",
       "      <td>-79.89619</td>\n",
       "      <td>41.11424,-79.89619</td>\n",
       "      <td>USA</td>\n",
       "      <td>PA</td>\n",
       "      <td>Boyers</td>\n",
       "      <td>16020, Boyers, PA, United States</td>\n",
       "      <td>0.96</td>\n",
       "      <td>1.0</td>\n",
       "      <td>1.0</td>\n",
       "      <td>None</td>\n",
       "      <td>None</td>\n",
       "      <td>None</td>\n",
       "      <td>None</td>\n",
       "      <td>0.82</td>\n",
       "    </tr>\n",
       "    <tr>\n",
       "      <th>2</th>\n",
       "      <td>41.02133</td>\n",
       "      <td>-79.71741</td>\n",
       "      <td>41.02133,-79.71741</td>\n",
       "      <td>USA</td>\n",
       "      <td>PA</td>\n",
       "      <td>Petrolia</td>\n",
       "      <td>16050, Petrolia, PA, United States</td>\n",
       "      <td>0.96</td>\n",
       "      <td>1.0</td>\n",
       "      <td>1.0</td>\n",
       "      <td>None</td>\n",
       "      <td>None</td>\n",
       "      <td>None</td>\n",
       "      <td>None</td>\n",
       "      <td>0.82</td>\n",
       "    </tr>\n",
       "    <tr>\n",
       "      <th>3</th>\n",
       "      <td>41.09071</td>\n",
       "      <td>-79.83325</td>\n",
       "      <td>41.09071,-79.83325</td>\n",
       "      <td>USA</td>\n",
       "      <td>PA</td>\n",
       "      <td>Hilliards</td>\n",
       "      <td>16040, Hilliards, PA, United States</td>\n",
       "      <td>0.96</td>\n",
       "      <td>1.0</td>\n",
       "      <td>1.0</td>\n",
       "      <td>None</td>\n",
       "      <td>None</td>\n",
       "      <td>None</td>\n",
       "      <td>None</td>\n",
       "      <td>0.82</td>\n",
       "    </tr>\n",
       "  </tbody>\n",
       "</table>\n",
       "</div>"
      ],
      "text/plain": [
       "        lat      long              string country state       city  \\\n",
       "0  40.74574 -79.92536  40.74574,-79.92536     USA    PA     Butler   \n",
       "1  41.11424 -79.89619  41.11424,-79.89619     USA    PA     Boyers   \n",
       "2  41.02133 -79.71741  41.02133,-79.71741     USA    PA   Petrolia   \n",
       "3  41.09071 -79.83325  41.09071,-79.83325     USA    PA  Hilliards   \n",
       "\n",
       "                               address  relevance  match_quality_country  \\\n",
       "0     16002, Butler, PA, United States       0.96                    1.0   \n",
       "1     16020, Boyers, PA, United States       0.96                    1.0   \n",
       "2   16050, Petrolia, PA, United States       0.96                    1.0   \n",
       "3  16040, Hilliards, PA, United States       0.96                    1.0   \n",
       "\n",
       "   match_quality_state match_quality_district match_quality_city  \\\n",
       "0                  1.0                   None               None   \n",
       "1                  1.0                   None               None   \n",
       "2                  1.0                   None               None   \n",
       "3                  1.0                   None               None   \n",
       "\n",
       "  match_quality_street match_quality_number  match_quality_postal_code  \n",
       "0                 None                 None                       0.82  \n",
       "1                 None                 None                       0.82  \n",
       "2                 None                 None                       0.82  \n",
       "3                 None                 None                       0.82  "
      ]
     },
     "execution_count": 308,
     "metadata": {},
     "output_type": "execute_result"
    }
   ],
   "source": [
    "#### Get single latitude and longitude from address, using the other API\n",
    "pd.DataFrame.from_dict(get_latlong_otherAPI('1600 pennsylvania, USA',api_key, limit=4))"
   ]
  },
  {
   "cell_type": "code",
   "execution_count": 309,
   "metadata": {
    "ExecuteTime": {
     "end_time": "2020-10-26T00:12:06.692077Z",
     "start_time": "2020-10-26T00:12:06.397070Z"
    }
   },
   "outputs": [
    {
     "data": {
      "text/html": [
       "<div>\n",
       "<style scoped>\n",
       "    .dataframe tbody tr th:only-of-type {\n",
       "        vertical-align: middle;\n",
       "    }\n",
       "\n",
       "    .dataframe tbody tr th {\n",
       "        vertical-align: top;\n",
       "    }\n",
       "\n",
       "    .dataframe thead th {\n",
       "        text-align: right;\n",
       "    }\n",
       "</style>\n",
       "<table border=\"1\" class=\"dataframe\">\n",
       "  <thead>\n",
       "    <tr style=\"text-align: right;\">\n",
       "      <th></th>\n",
       "      <th>lat</th>\n",
       "      <th>long</th>\n",
       "      <th>string</th>\n",
       "      <th>country</th>\n",
       "      <th>state</th>\n",
       "      <th>address</th>\n",
       "      <th>relevance</th>\n",
       "      <th>match_quality_country</th>\n",
       "      <th>match_quality_state</th>\n",
       "      <th>match_quality_district</th>\n",
       "      <th>match_quality_city</th>\n",
       "      <th>match_quality_street</th>\n",
       "      <th>match_quality_number</th>\n",
       "      <th>match_quality_postal_code</th>\n",
       "    </tr>\n",
       "  </thead>\n",
       "  <tbody>\n",
       "    <tr>\n",
       "      <th>0</th>\n",
       "      <td>40.74028</td>\n",
       "      <td>-73.82497</td>\n",
       "      <td>40.74028,-73.82497</td>\n",
       "      <td>United States</td>\n",
       "      <td>New York</td>\n",
       "      <td>Main St, Flushing, NY 11354, United States</td>\n",
       "      <td>1.0</td>\n",
       "      <td>1.0</td>\n",
       "      <td>1.0</td>\n",
       "      <td>None</td>\n",
       "      <td>None</td>\n",
       "      <td>1.0</td>\n",
       "      <td>None</td>\n",
       "      <td>None</td>\n",
       "    </tr>\n",
       "  </tbody>\n",
       "</table>\n",
       "</div>"
      ],
      "text/plain": [
       "        lat      long              string        country     state  \\\n",
       "0  40.74028 -73.82497  40.74028,-73.82497  United States  New York   \n",
       "\n",
       "                                      address  relevance  \\\n",
       "0  Main St, Flushing, NY 11354, United States        1.0   \n",
       "\n",
       "   match_quality_country  match_quality_state match_quality_district  \\\n",
       "0                    1.0                  1.0                   None   \n",
       "\n",
       "  match_quality_city  match_quality_street match_quality_number  \\\n",
       "0               None                   1.0                 None   \n",
       "\n",
       "  match_quality_postal_code  \n",
       "0                      None  "
      ]
     },
     "execution_count": 309,
     "metadata": {},
     "output_type": "execute_result"
    }
   ],
   "source": [
    "#### Get multiple latitude and longitude from address\n",
    "pd.DataFrame.from_dict(get_latlong('Main Street, NY, United States',api_key))"
   ]
  },
  {
   "cell_type": "markdown",
   "metadata": {},
   "source": [
    "## Reverse Geocoding - get address from latitude, longitude"
   ]
  },
  {
   "cell_type": "code",
   "execution_count": 215,
   "metadata": {
    "ExecuteTime": {
     "end_time": "2020-10-25T22:31:00.956557Z",
     "start_time": "2020-10-25T22:31:00.750556Z"
    }
   },
   "outputs": [
    {
     "data": {
      "text/html": [
       "<div>\n",
       "<style scoped>\n",
       "    .dataframe tbody tr th:only-of-type {\n",
       "        vertical-align: middle;\n",
       "    }\n",
       "\n",
       "    .dataframe tbody tr th {\n",
       "        vertical-align: top;\n",
       "    }\n",
       "\n",
       "    .dataframe thead th {\n",
       "        text-align: right;\n",
       "    }\n",
       "</style>\n",
       "<table border=\"1\" class=\"dataframe\">\n",
       "  <thead>\n",
       "    <tr style=\"text-align: right;\">\n",
       "      <th></th>\n",
       "      <th>address</th>\n",
       "      <th>country</th>\n",
       "      <th>state</th>\n",
       "      <th>city</th>\n",
       "      <th>street</th>\n",
       "      <th>postalCode</th>\n",
       "      <th>latitude</th>\n",
       "      <th>longitude</th>\n",
       "    </tr>\n",
       "  </thead>\n",
       "  <tbody>\n",
       "    <tr>\n",
       "      <th>0</th>\n",
       "      <td>31031 Skipton Cordova Rd, Cordova, MD 21625-29...</td>\n",
       "      <td>United States</td>\n",
       "      <td>Maryland</td>\n",
       "      <td>Maryland</td>\n",
       "      <td>Skipton Cordova Rd</td>\n",
       "      <td>21625-2915</td>\n",
       "      <td>38.87890</td>\n",
       "      <td>-75.99778</td>\n",
       "    </tr>\n",
       "    <tr>\n",
       "      <th>1</th>\n",
       "      <td>31035 Skipton Cordova Rd, Cordova, MD 21625-29...</td>\n",
       "      <td>United States</td>\n",
       "      <td>Maryland</td>\n",
       "      <td>Maryland</td>\n",
       "      <td>Skipton Cordova Rd</td>\n",
       "      <td>21625-2915</td>\n",
       "      <td>38.87868</td>\n",
       "      <td>-75.99777</td>\n",
       "    </tr>\n",
       "  </tbody>\n",
       "</table>\n",
       "</div>"
      ],
      "text/plain": [
       "                                             address        country     state  \\\n",
       "0  31031 Skipton Cordova Rd, Cordova, MD 21625-29...  United States  Maryland   \n",
       "1  31035 Skipton Cordova Rd, Cordova, MD 21625-29...  United States  Maryland   \n",
       "\n",
       "       city              street  postalCode  latitude  longitude  \n",
       "0  Maryland  Skipton Cordova Rd  21625-2915  38.87890  -75.99778  \n",
       "1  Maryland  Skipton Cordova Rd  21625-2915  38.87868  -75.99777  "
      ]
     },
     "execution_count": 215,
     "metadata": {},
     "output_type": "execute_result"
    }
   ],
   "source": [
    "pd.DataFrame.from_dict(get_address(\"38.8789,-76\", api_key, limit=2))"
   ]
  },
  {
   "cell_type": "markdown",
   "metadata": {},
   "source": [
    "## Search - find addresses satisfying specific conditions near a latitude, longitude"
   ]
  },
  {
   "cell_type": "code",
   "execution_count": 217,
   "metadata": {
    "ExecuteTime": {
     "end_time": "2020-10-25T22:35:25.977833Z",
     "start_time": "2020-10-25T22:35:25.682976Z"
    }
   },
   "outputs": [
    {
     "data": {
      "text/html": [
       "<div>\n",
       "<style scoped>\n",
       "    .dataframe tbody tr th:only-of-type {\n",
       "        vertical-align: middle;\n",
       "    }\n",
       "\n",
       "    .dataframe tbody tr th {\n",
       "        vertical-align: top;\n",
       "    }\n",
       "\n",
       "    .dataframe thead th {\n",
       "        text-align: right;\n",
       "    }\n",
       "</style>\n",
       "<table border=\"1\" class=\"dataframe\">\n",
       "  <thead>\n",
       "    <tr style=\"text-align: right;\">\n",
       "      <th></th>\n",
       "      <th>address</th>\n",
       "      <th>country</th>\n",
       "      <th>state</th>\n",
       "      <th>city</th>\n",
       "      <th>street</th>\n",
       "      <th>postalCode</th>\n",
       "      <th>latitude</th>\n",
       "      <th>longitude</th>\n",
       "    </tr>\n",
       "  </thead>\n",
       "  <tbody>\n",
       "    <tr>\n",
       "      <th>0</th>\n",
       "      <td>Cordova Community Park, Rose St, Cordova, MD 2...</td>\n",
       "      <td>United States</td>\n",
       "      <td>Maryland</td>\n",
       "      <td>Maryland</td>\n",
       "      <td>Rose St</td>\n",
       "      <td>21625</td>\n",
       "      <td>38.87812</td>\n",
       "      <td>-75.99568</td>\n",
       "    </tr>\n",
       "    <tr>\n",
       "      <th>1</th>\n",
       "      <td>Rose St, Cordova, MD 21625, United States</td>\n",
       "      <td>United States</td>\n",
       "      <td>Maryland</td>\n",
       "      <td>Maryland</td>\n",
       "      <td>Rose St</td>\n",
       "      <td>21625</td>\n",
       "      <td>38.87920</td>\n",
       "      <td>-75.99552</td>\n",
       "    </tr>\n",
       "  </tbody>\n",
       "</table>\n",
       "</div>"
      ],
      "text/plain": [
       "                                             address        country     state  \\\n",
       "0  Cordova Community Park, Rose St, Cordova, MD 2...  United States  Maryland   \n",
       "1          Rose St, Cordova, MD 21625, United States  United States  Maryland   \n",
       "\n",
       "       city   street postalCode  latitude  longitude  \n",
       "0  Maryland  Rose St      21625  38.87812  -75.99568  \n",
       "1  Maryland  Rose St      21625  38.87920  -75.99552  "
      ]
     },
     "execution_count": 217,
     "metadata": {},
     "output_type": "execute_result"
    }
   ],
   "source": [
    "pd.DataFrame.from_dict(browse_address(\"38.8789,-76\", api_key, limit=2))\n"
   ]
  },
  {
   "cell_type": "code",
   "execution_count": 219,
   "metadata": {
    "ExecuteTime": {
     "end_time": "2020-10-25T22:36:51.698514Z",
     "start_time": "2020-10-25T22:36:51.432103Z"
    }
   },
   "outputs": [
    {
     "data": {
      "text/html": [
       "<div>\n",
       "<style scoped>\n",
       "    .dataframe tbody tr th:only-of-type {\n",
       "        vertical-align: middle;\n",
       "    }\n",
       "\n",
       "    .dataframe tbody tr th {\n",
       "        vertical-align: top;\n",
       "    }\n",
       "\n",
       "    .dataframe thead th {\n",
       "        text-align: right;\n",
       "    }\n",
       "</style>\n",
       "<table border=\"1\" class=\"dataframe\">\n",
       "  <thead>\n",
       "    <tr style=\"text-align: right;\">\n",
       "      <th></th>\n",
       "      <th>address</th>\n",
       "      <th>country</th>\n",
       "      <th>state</th>\n",
       "      <th>city</th>\n",
       "      <th>street</th>\n",
       "      <th>postalCode</th>\n",
       "      <th>latitude</th>\n",
       "      <th>longitude</th>\n",
       "    </tr>\n",
       "  </thead>\n",
       "  <tbody>\n",
       "    <tr>\n",
       "      <th>0</th>\n",
       "      <td>Dollar Tree, 8223 Elliott Rd, Easton, MD 21601...</td>\n",
       "      <td>United States</td>\n",
       "      <td>Maryland</td>\n",
       "      <td>Maryland</td>\n",
       "      <td>Elliott Rd</td>\n",
       "      <td>21601</td>\n",
       "      <td>38.77501</td>\n",
       "      <td>-76.05647</td>\n",
       "    </tr>\n",
       "    <tr>\n",
       "      <th>1</th>\n",
       "      <td>Giant, 8223 Elliott Rd, Easton, MD 21601, Unit...</td>\n",
       "      <td>United States</td>\n",
       "      <td>Maryland</td>\n",
       "      <td>Maryland</td>\n",
       "      <td>Elliott Rd</td>\n",
       "      <td>21601</td>\n",
       "      <td>38.77501</td>\n",
       "      <td>-76.05647</td>\n",
       "    </tr>\n",
       "    <tr>\n",
       "      <th>2</th>\n",
       "      <td>Shoppes at Easton, 8223 Elliott Rd, Easton, MD...</td>\n",
       "      <td>United States</td>\n",
       "      <td>Maryland</td>\n",
       "      <td>Maryland</td>\n",
       "      <td>Elliott Rd</td>\n",
       "      <td>21601</td>\n",
       "      <td>38.77501</td>\n",
       "      <td>-76.05647</td>\n",
       "    </tr>\n",
       "    <tr>\n",
       "      <th>3</th>\n",
       "      <td>Walmart, 8155 Elliott Rd, Easton, MD 21601, Un...</td>\n",
       "      <td>United States</td>\n",
       "      <td>Maryland</td>\n",
       "      <td>Maryland</td>\n",
       "      <td>Elliott Rd</td>\n",
       "      <td>21601</td>\n",
       "      <td>38.77289</td>\n",
       "      <td>-76.05556</td>\n",
       "    </tr>\n",
       "    <tr>\n",
       "      <th>4</th>\n",
       "      <td>Kohl's, 207 Marlboro Ave, Easton, MD 21601, Un...</td>\n",
       "      <td>United States</td>\n",
       "      <td>Maryland</td>\n",
       "      <td>Maryland</td>\n",
       "      <td>Marlboro Ave</td>\n",
       "      <td>21601</td>\n",
       "      <td>38.78221</td>\n",
       "      <td>-76.08063</td>\n",
       "    </tr>\n",
       "  </tbody>\n",
       "</table>\n",
       "</div>"
      ],
      "text/plain": [
       "                                             address        country     state  \\\n",
       "0  Dollar Tree, 8223 Elliott Rd, Easton, MD 21601...  United States  Maryland   \n",
       "1  Giant, 8223 Elliott Rd, Easton, MD 21601, Unit...  United States  Maryland   \n",
       "2  Shoppes at Easton, 8223 Elliott Rd, Easton, MD...  United States  Maryland   \n",
       "3  Walmart, 8155 Elliott Rd, Easton, MD 21601, Un...  United States  Maryland   \n",
       "4  Kohl's, 207 Marlboro Ave, Easton, MD 21601, Un...  United States  Maryland   \n",
       "\n",
       "       city        street postalCode  latitude  longitude  \n",
       "0  Maryland    Elliott Rd      21601  38.77501  -76.05647  \n",
       "1  Maryland    Elliott Rd      21601  38.77501  -76.05647  \n",
       "2  Maryland    Elliott Rd      21601  38.77501  -76.05647  \n",
       "3  Maryland    Elliott Rd      21601  38.77289  -76.05556  \n",
       "4  Maryland  Marlboro Ave      21601  38.78221  -76.08063  "
      ]
     },
     "execution_count": 219,
     "metadata": {},
     "output_type": "execute_result"
    }
   ],
   "source": [
    "# Find shopping malls nearby\n",
    "pd.DataFrame.from_dict(browse_address(\"38.8789,-76\", api_key, categories=\"600-6100-0062,600-6200-0063\", limit=5))"
   ]
  },
  {
   "cell_type": "markdown",
   "metadata": {},
   "source": [
    "## Distances and Time between points"
   ]
  },
  {
   "cell_type": "code",
   "execution_count": 223,
   "metadata": {
    "ExecuteTime": {
     "end_time": "2020-10-25T22:43:21.157565Z",
     "start_time": "2020-10-25T22:43:19.626037Z"
    }
   },
   "outputs": [
    {
     "name": "stdout",
     "output_type": "stream",
     "text": [
      "33.85176,-117.87114 to 42.3416,-71.12277\n"
     ]
    },
    {
     "data": {
      "text/plain": [
       "{'duration': 161456, 'length': 2974.44728895075, 'baseDuration': 160012}"
      ]
     },
     "execution_count": 223,
     "metadata": {},
     "output_type": "execute_result"
    }
   ],
   "source": [
    "# Get driving distanes and times\n",
    "address_from = '6649 N Blue Gum St New Orleans LA'\n",
    "address_to = '55 Beacon Street, Brookline, MA'\n",
    "\n",
    "latlong_from = get_latlong(address_from,api_key)[0]['string']\n",
    "latlong_to = get_latlong(address_to,api_key)[0]['string']\n",
    "\n",
    "print(\"{} to {}\".format(latlong_from, latlong_to))\n",
    "\n",
    "get_driving_info(latlong_from, latlong_to,api_key,summary_only=True) # Length in miles, and # time in seconds"
   ]
  },
  {
   "cell_type": "code",
   "execution_count": 226,
   "metadata": {
    "ExecuteTime": {
     "end_time": "2020-10-25T22:45:50.677996Z",
     "start_time": "2020-10-25T22:45:49.600189Z"
    }
   },
   "outputs": [
    {
     "data": {
      "text/plain": [
       "{'duration': 3305618, 'length': 2051.2787850920254, 'baseDuration': 3305618}"
      ]
     },
     "execution_count": 226,
     "metadata": {},
     "output_type": "execute_result"
    }
   ],
   "source": [
    "# Get walking information\n",
    "get_walking_info(get_latlong('6649 N Blue Gum St New Orleans LA',api_key)[0]['string'],\n",
    "                 get_latlong('55 Beacon Street, Brookline, MA',api_key)[0]['string'],api_key,summary_only=True)"
   ]
  },
  {
   "cell_type": "code",
   "execution_count": 227,
   "metadata": {
    "ExecuteTime": {
     "end_time": "2020-10-25T22:48:39.646549Z",
     "start_time": "2020-10-25T22:48:37.018298Z"
    }
   },
   "outputs": [
    {
     "data": {
      "text/plain": [
       "{'duration': 193188, 'length': 3014.842730560354, 'baseDuration': 192490}"
      ]
     },
     "execution_count": 227,
     "metadata": {},
     "output_type": "execute_result"
    }
   ],
   "source": [
    "# Get truck information\n",
    "get_any_routing_info(get_latlong('6649 N Blue Gum St New Orleans LA',api_key)[0]['string'],\n",
    "                     get_latlong('55 Beacon Street, Brookline, MA',api_key)[0]['string'],api_key,summary_only=True,\n",
    "                     transportMode=\"truck\")"
   ]
  },
  {
   "cell_type": "markdown",
   "metadata": {},
   "source": [
    "## Matrix Routing\n",
    "\n",
    "**IMPORTANT: To use this, you need a temporary access token**\n",
    "Access tokens are requested using your access_key_id and access_key_secret, and lasts 24 hours. You need to follow the instructions to get a token:\n",
    "https://developer.here.com/documentation/authentication/dev_guide/topics/using-postman.html#using-postman"
   ]
  },
  {
   "cell_type": "code",
   "execution_count": 228,
   "metadata": {
    "ExecuteTime": {
     "end_time": "2020-10-25T22:56:30.706588Z",
     "start_time": "2020-10-25T22:56:30.701585Z"
    }
   },
   "outputs": [],
   "source": [
    "access_token = \"very_long_access_token_here_eg_eyJhbGciOiJSUzUxMiIsImN0eSI6IkpXVCIsImlzcyI6IkhFUkUiLCJhaWQiOiJCc0NCaFRnZmpDeGpyMVcyUUlwQyIsImlhdCI6MTYwMjk4MDkzMSwiZXhwIjoxNjAzMDY3MzMxLCJraWQiOiJqMSJ9.ZXlKaGJHY2lPaUprYVhJaUxDSmxibU1pT2lKQk1qVTJRMEpETFVoVE5URXlJbjAuLk92d3BNU0x4Y2NOT05weVA1eTlpMkEucmxTUE5hTzd3czFXVEZaZWhTTXk3ZXAxc0htNmI4OVBhUGkxNFVKb0pFMGFBSVhlcl9tYmx2WldwUmtDbzhteGhKNXQ4YV9xLU9XdW03ZnJUMG1sU3VSM3hORUo4cmdQcGpMZWs3MTlEcDNlcjlFM3MxRnVwcHdSU2QxSGNycHNIVTRJUjR1SDZRaWt3RTRsazVJVVhRLjAwbVAtdzBzekJiRDItNGZVSWhSaHo0elJaOUg5aXYtTWpGM2dQeWJxRmM.iqLW-SXExR1s0GjHn9C2n7fFOSKjH0OqwRDObW5492S080CNZ9U_ntiiL4mo_U476BUkp5CwE5ldrLe0bqL8vk804s--PKQly0pTHvQe3D2WPahTfpCespZKn2TLegrv2YsZqlqzD9NOMvdEaoQjCXjrQWB1tnSP5VcFRfquIR8VV8R368D1ox6ie9l_l7b_SirueYa85YzqGJOyp65sDQwfcXNBWYCgKBWlps9vF_NjwYd0eklcDRNo7-1iZFIUH0FEASIQ8t8bDutrHXM_DYXjXML72QrugywsXIBHsP_U2wBSshzl_8WY9yCfRLVWzgv8hV5vzfWDXBdC9bPNEA\""
   ]
  },
  {
   "cell_type": "code",
   "execution_count": 233,
   "metadata": {
    "ExecuteTime": {
     "end_time": "2020-10-25T23:00:50.538746Z",
     "start_time": "2020-10-25T23:00:49.190936Z"
    },
    "scrolled": true
   },
   "outputs": [
    {
     "data": {
      "text/html": [
       "<div>\n",
       "<style scoped>\n",
       "    .dataframe tbody tr th:only-of-type {\n",
       "        vertical-align: middle;\n",
       "    }\n",
       "\n",
       "    .dataframe tbody tr th {\n",
       "        vertical-align: top;\n",
       "    }\n",
       "\n",
       "    .dataframe thead th {\n",
       "        text-align: right;\n",
       "    }\n",
       "</style>\n",
       "<table border=\"1\" class=\"dataframe\">\n",
       "  <thead>\n",
       "    <tr style=\"text-align: right;\">\n",
       "      <th></th>\n",
       "      <th>latitude_x</th>\n",
       "      <th>longitude_x</th>\n",
       "      <th>orig_index</th>\n",
       "      <th>latitude_y</th>\n",
       "      <th>longitude_y</th>\n",
       "      <th>dest_index</th>\n",
       "      <th>travelTimes</th>\n",
       "      <th>distances</th>\n",
       "      <th>errorCodes</th>\n",
       "    </tr>\n",
       "  </thead>\n",
       "  <tbody>\n",
       "    <tr>\n",
       "      <th>0</th>\n",
       "      <td>52.2</td>\n",
       "      <td>13.432</td>\n",
       "      <td>0</td>\n",
       "      <td>52.2</td>\n",
       "      <td>13.432</td>\n",
       "      <td>0</td>\n",
       "      <td>0</td>\n",
       "      <td>0</td>\n",
       "      <td>0</td>\n",
       "    </tr>\n",
       "    <tr>\n",
       "      <th>1</th>\n",
       "      <td>52.2</td>\n",
       "      <td>13.432</td>\n",
       "      <td>0</td>\n",
       "      <td>52.1</td>\n",
       "      <td>13.400</td>\n",
       "      <td>1</td>\n",
       "      <td>1246</td>\n",
       "      <td>15313</td>\n",
       "      <td>0</td>\n",
       "    </tr>\n",
       "    <tr>\n",
       "      <th>2</th>\n",
       "      <td>52.2</td>\n",
       "      <td>13.432</td>\n",
       "      <td>0</td>\n",
       "      <td>52.5</td>\n",
       "      <td>13.220</td>\n",
       "      <td>2</td>\n",
       "      <td>3508</td>\n",
       "      <td>59035</td>\n",
       "      <td>0</td>\n",
       "    </tr>\n",
       "    <tr>\n",
       "      <th>3</th>\n",
       "      <td>52.1</td>\n",
       "      <td>13.400</td>\n",
       "      <td>1</td>\n",
       "      <td>52.2</td>\n",
       "      <td>13.432</td>\n",
       "      <td>0</td>\n",
       "      <td>1256</td>\n",
       "      <td>15313</td>\n",
       "      <td>0</td>\n",
       "    </tr>\n",
       "    <tr>\n",
       "      <th>4</th>\n",
       "      <td>52.1</td>\n",
       "      <td>13.400</td>\n",
       "      <td>1</td>\n",
       "      <td>52.1</td>\n",
       "      <td>13.400</td>\n",
       "      <td>1</td>\n",
       "      <td>0</td>\n",
       "      <td>0</td>\n",
       "      <td>0</td>\n",
       "    </tr>\n",
       "    <tr>\n",
       "      <th>5</th>\n",
       "      <td>52.1</td>\n",
       "      <td>13.400</td>\n",
       "      <td>1</td>\n",
       "      <td>52.5</td>\n",
       "      <td>13.220</td>\n",
       "      <td>2</td>\n",
       "      <td>4163</td>\n",
       "      <td>72911</td>\n",
       "      <td>0</td>\n",
       "    </tr>\n",
       "    <tr>\n",
       "      <th>6</th>\n",
       "      <td>52.5</td>\n",
       "      <td>13.220</td>\n",
       "      <td>2</td>\n",
       "      <td>52.2</td>\n",
       "      <td>13.432</td>\n",
       "      <td>0</td>\n",
       "      <td>3435</td>\n",
       "      <td>58770</td>\n",
       "      <td>0</td>\n",
       "    </tr>\n",
       "    <tr>\n",
       "      <th>7</th>\n",
       "      <td>52.5</td>\n",
       "      <td>13.220</td>\n",
       "      <td>2</td>\n",
       "      <td>52.1</td>\n",
       "      <td>13.400</td>\n",
       "      <td>1</td>\n",
       "      <td>4030</td>\n",
       "      <td>73253</td>\n",
       "      <td>0</td>\n",
       "    </tr>\n",
       "    <tr>\n",
       "      <th>8</th>\n",
       "      <td>52.5</td>\n",
       "      <td>13.220</td>\n",
       "      <td>2</td>\n",
       "      <td>52.5</td>\n",
       "      <td>13.220</td>\n",
       "      <td>2</td>\n",
       "      <td>0</td>\n",
       "      <td>0</td>\n",
       "      <td>0</td>\n",
       "    </tr>\n",
       "  </tbody>\n",
       "</table>\n",
       "</div>"
      ],
      "text/plain": [
       "   latitude_x  longitude_x  orig_index  latitude_y  longitude_y  dest_index  \\\n",
       "0        52.2       13.432           0        52.2       13.432           0   \n",
       "1        52.2       13.432           0        52.1       13.400           1   \n",
       "2        52.2       13.432           0        52.5       13.220           2   \n",
       "3        52.1       13.400           1        52.2       13.432           0   \n",
       "4        52.1       13.400           1        52.1       13.400           1   \n",
       "5        52.1       13.400           1        52.5       13.220           2   \n",
       "6        52.5       13.220           2        52.2       13.432           0   \n",
       "7        52.5       13.220           2        52.1       13.400           1   \n",
       "8        52.5       13.220           2        52.5       13.220           2   \n",
       "\n",
       "   travelTimes  distances  errorCodes  \n",
       "0            0          0           0  \n",
       "1         1246      15313           0  \n",
       "2         3508      59035           0  \n",
       "3         1256      15313           0  \n",
       "4            0          0           0  \n",
       "5         4163      72911           0  \n",
       "6         3435      58770           0  \n",
       "7         4030      73253           0  \n",
       "8            0          0           0  "
      ]
     },
     "execution_count": 233,
     "metadata": {},
     "output_type": "execute_result"
    }
   ],
   "source": [
    "# Example\n",
    "origins = pd.DataFrame({\"latitude\":[52.2,52.1,52.5], \"longitude\":[13.432, 13.4,13.22]})\n",
    "results, metadata = calculate_matrix_routing(api_key, access_token, origins)\n",
    "results"
   ]
  },
  {
   "cell_type": "code",
   "execution_count": 234,
   "metadata": {
    "ExecuteTime": {
     "end_time": "2020-10-25T23:04:06.342877Z",
     "start_time": "2020-10-25T23:04:05.358289Z"
    }
   },
   "outputs": [
    {
     "data": {
      "text/html": [
       "<div>\n",
       "<style scoped>\n",
       "    .dataframe tbody tr th:only-of-type {\n",
       "        vertical-align: middle;\n",
       "    }\n",
       "\n",
       "    .dataframe tbody tr th {\n",
       "        vertical-align: top;\n",
       "    }\n",
       "\n",
       "    .dataframe thead th {\n",
       "        text-align: right;\n",
       "    }\n",
       "</style>\n",
       "<table border=\"1\" class=\"dataframe\">\n",
       "  <thead>\n",
       "    <tr style=\"text-align: right;\">\n",
       "      <th></th>\n",
       "      <th>latitude_x</th>\n",
       "      <th>longitude_x</th>\n",
       "      <th>orig_index</th>\n",
       "      <th>latitude_y</th>\n",
       "      <th>longitude_y</th>\n",
       "      <th>dest_index</th>\n",
       "      <th>travelTimes</th>\n",
       "      <th>distances</th>\n",
       "      <th>errorCodes</th>\n",
       "    </tr>\n",
       "  </thead>\n",
       "  <tbody>\n",
       "    <tr>\n",
       "      <th>0</th>\n",
       "      <td>52.2</td>\n",
       "      <td>13.432</td>\n",
       "      <td>0</td>\n",
       "      <td>51.2</td>\n",
       "      <td>13.20</td>\n",
       "      <td>0</td>\n",
       "      <td>8074</td>\n",
       "      <td>213573</td>\n",
       "      <td>0</td>\n",
       "    </tr>\n",
       "    <tr>\n",
       "      <th>1</th>\n",
       "      <td>52.2</td>\n",
       "      <td>13.432</td>\n",
       "      <td>0</td>\n",
       "      <td>50.1</td>\n",
       "      <td>12.40</td>\n",
       "      <td>1</td>\n",
       "      <td>13803</td>\n",
       "      <td>379392</td>\n",
       "      <td>0</td>\n",
       "    </tr>\n",
       "    <tr>\n",
       "      <th>2</th>\n",
       "      <td>52.2</td>\n",
       "      <td>13.432</td>\n",
       "      <td>0</td>\n",
       "      <td>53.5</td>\n",
       "      <td>11.22</td>\n",
       "      <td>2</td>\n",
       "      <td>10437</td>\n",
       "      <td>273434</td>\n",
       "      <td>0</td>\n",
       "    </tr>\n",
       "    <tr>\n",
       "      <th>3</th>\n",
       "      <td>52.1</td>\n",
       "      <td>13.400</td>\n",
       "      <td>1</td>\n",
       "      <td>51.2</td>\n",
       "      <td>13.20</td>\n",
       "      <td>0</td>\n",
       "      <td>8198</td>\n",
       "      <td>200043</td>\n",
       "      <td>0</td>\n",
       "    </tr>\n",
       "    <tr>\n",
       "      <th>4</th>\n",
       "      <td>52.1</td>\n",
       "      <td>13.400</td>\n",
       "      <td>1</td>\n",
       "      <td>50.1</td>\n",
       "      <td>12.40</td>\n",
       "      <td>1</td>\n",
       "      <td>14381</td>\n",
       "      <td>374205</td>\n",
       "      <td>0</td>\n",
       "    </tr>\n",
       "    <tr>\n",
       "      <th>5</th>\n",
       "      <td>52.1</td>\n",
       "      <td>13.400</td>\n",
       "      <td>1</td>\n",
       "      <td>53.5</td>\n",
       "      <td>11.22</td>\n",
       "      <td>2</td>\n",
       "      <td>11587</td>\n",
       "      <td>288747</td>\n",
       "      <td>0</td>\n",
       "    </tr>\n",
       "    <tr>\n",
       "      <th>6</th>\n",
       "      <td>52.5</td>\n",
       "      <td>13.220</td>\n",
       "      <td>2</td>\n",
       "      <td>51.2</td>\n",
       "      <td>13.20</td>\n",
       "      <td>0</td>\n",
       "      <td>9276</td>\n",
       "      <td>245119</td>\n",
       "      <td>0</td>\n",
       "    </tr>\n",
       "    <tr>\n",
       "      <th>7</th>\n",
       "      <td>52.5</td>\n",
       "      <td>13.220</td>\n",
       "      <td>2</td>\n",
       "      <td>50.1</td>\n",
       "      <td>12.40</td>\n",
       "      <td>1</td>\n",
       "      <td>13247</td>\n",
       "      <td>373303</td>\n",
       "      <td>0</td>\n",
       "    </tr>\n",
       "    <tr>\n",
       "      <th>8</th>\n",
       "      <td>52.5</td>\n",
       "      <td>13.220</td>\n",
       "      <td>2</td>\n",
       "      <td>53.5</td>\n",
       "      <td>11.22</td>\n",
       "      <td>2</td>\n",
       "      <td>7974</td>\n",
       "      <td>205207</td>\n",
       "      <td>0</td>\n",
       "    </tr>\n",
       "  </tbody>\n",
       "</table>\n",
       "</div>"
      ],
      "text/plain": [
       "   latitude_x  longitude_x  orig_index  latitude_y  longitude_y  dest_index  \\\n",
       "0        52.2       13.432           0        51.2        13.20           0   \n",
       "1        52.2       13.432           0        50.1        12.40           1   \n",
       "2        52.2       13.432           0        53.5        11.22           2   \n",
       "3        52.1       13.400           1        51.2        13.20           0   \n",
       "4        52.1       13.400           1        50.1        12.40           1   \n",
       "5        52.1       13.400           1        53.5        11.22           2   \n",
       "6        52.5       13.220           2        51.2        13.20           0   \n",
       "7        52.5       13.220           2        50.1        12.40           1   \n",
       "8        52.5       13.220           2        53.5        11.22           2   \n",
       "\n",
       "   travelTimes  distances  errorCodes  \n",
       "0         8074     213573           0  \n",
       "1        13803     379392           0  \n",
       "2        10437     273434           0  \n",
       "3         8198     200043           0  \n",
       "4        14381     374205           0  \n",
       "5        11587     288747           0  \n",
       "6         9276     245119           0  \n",
       "7        13247     373303           0  \n",
       "8         7974     205207           0  "
      ]
     },
     "execution_count": 234,
     "metadata": {},
     "output_type": "execute_result"
    }
   ],
   "source": [
    "# Example\n",
    "origins = pd.DataFrame({\"latitude\":[52.2,52.1,52.5], \"longitude\":[13.432, 13.4,13.22]})\n",
    "destinations = pd.DataFrame({\"latitude\":[51.2,50.1,53.5], \"longitude\":[13.2, 12.4,11.22]})\n",
    "\n",
    "results, metadata = calculate_matrix_routing(api_key, access_token, origins, destinations)\n",
    "results"
   ]
  },
  {
   "cell_type": "markdown",
   "metadata": {},
   "source": [
    "# Worked examples"
   ]
  },
  {
   "cell_type": "markdown",
   "metadata": {},
   "source": [
    "## Loading in a list of addresses to convert into latitude and longitude"
   ]
  },
  {
   "cell_type": "code",
   "execution_count": 310,
   "metadata": {
    "ExecuteTime": {
     "end_time": "2020-10-26T00:12:11.584106Z",
     "start_time": "2020-10-26T00:12:11.571108Z"
    }
   },
   "outputs": [
    {
     "data": {
      "text/html": [
       "<div>\n",
       "<style scoped>\n",
       "    .dataframe tbody tr th:only-of-type {\n",
       "        vertical-align: middle;\n",
       "    }\n",
       "\n",
       "    .dataframe tbody tr th {\n",
       "        vertical-align: top;\n",
       "    }\n",
       "\n",
       "    .dataframe thead th {\n",
       "        text-align: right;\n",
       "    }\n",
       "</style>\n",
       "<table border=\"1\" class=\"dataframe\">\n",
       "  <thead>\n",
       "    <tr style=\"text-align: right;\">\n",
       "      <th></th>\n",
       "      <th>Address</th>\n",
       "    </tr>\n",
       "  </thead>\n",
       "  <tbody>\n",
       "    <tr>\n",
       "      <th>0</th>\n",
       "      <td>752 Durham, Middleton, WI 53560</td>\n",
       "    </tr>\n",
       "    <tr>\n",
       "      <th>1</th>\n",
       "      <td>14 Del Monte Dr, Chesterfield, VA 23832</td>\n",
       "    </tr>\n",
       "    <tr>\n",
       "      <th>2</th>\n",
       "      <td>8579 Essex Ave., Green Cove, FL 32043</td>\n",
       "    </tr>\n",
       "    <tr>\n",
       "      <th>3</th>\n",
       "      <td>8 North Armstrong Lane, East Northport, NY 11731</td>\n",
       "    </tr>\n",
       "    <tr>\n",
       "      <th>4</th>\n",
       "      <td>307 Poplar Road, Hoboken, NW 07030</td>\n",
       "    </tr>\n",
       "  </tbody>\n",
       "</table>\n",
       "</div>"
      ],
      "text/plain": [
       "                                            Address\n",
       "0                   752 Durham, Middleton, WI 53560\n",
       "1           14 Del Monte Dr, Chesterfield, VA 23832\n",
       "2             8579 Essex Ave., Green Cove, FL 32043\n",
       "3  8 North Armstrong Lane, East Northport, NY 11731\n",
       "4                307 Poplar Road, Hoboken, NW 07030"
      ]
     },
     "execution_count": 310,
     "metadata": {},
     "output_type": "execute_result"
    }
   ],
   "source": [
    "addresses = pd.read_csv(\"sample_input/addresses1.csv\") # Modify filepath as needed\n",
    "addresses.head()"
   ]
  },
  {
   "cell_type": "code",
   "execution_count": 311,
   "metadata": {
    "ExecuteTime": {
     "end_time": "2020-10-26T00:12:15.223130Z",
     "start_time": "2020-10-26T00:12:12.264112Z"
    },
    "scrolled": true
   },
   "outputs": [
    {
     "data": {
      "text/html": [
       "<div>\n",
       "<style scoped>\n",
       "    .dataframe tbody tr th:only-of-type {\n",
       "        vertical-align: middle;\n",
       "    }\n",
       "\n",
       "    .dataframe tbody tr th {\n",
       "        vertical-align: top;\n",
       "    }\n",
       "\n",
       "    .dataframe thead th {\n",
       "        text-align: right;\n",
       "    }\n",
       "</style>\n",
       "<table border=\"1\" class=\"dataframe\">\n",
       "  <thead>\n",
       "    <tr style=\"text-align: right;\">\n",
       "      <th></th>\n",
       "      <th>lat</th>\n",
       "      <th>long</th>\n",
       "      <th>string</th>\n",
       "      <th>country</th>\n",
       "      <th>state</th>\n",
       "      <th>address</th>\n",
       "      <th>relevance</th>\n",
       "      <th>match_quality_country</th>\n",
       "      <th>match_quality_state</th>\n",
       "      <th>match_quality_district</th>\n",
       "      <th>match_quality_city</th>\n",
       "      <th>match_quality_street</th>\n",
       "      <th>match_quality_number</th>\n",
       "      <th>match_quality_postal_code</th>\n",
       "      <th>score</th>\n",
       "    </tr>\n",
       "  </thead>\n",
       "  <tbody>\n",
       "    <tr>\n",
       "      <th>0</th>\n",
       "      <td>40.1569</td>\n",
       "      <td>-74.8993</td>\n",
       "      <td>40.1569,-74.8993</td>\n",
       "      <td>United States</td>\n",
       "      <td>Pennsylvania</td>\n",
       "      <td>752 Durham Rd, Middletown Twp, PA 19047-5735, ...</td>\n",
       "      <td>0.72</td>\n",
       "      <td>NaN</td>\n",
       "      <td>NaN</td>\n",
       "      <td>NaN</td>\n",
       "      <td>0.9</td>\n",
       "      <td>0.90</td>\n",
       "      <td>1.0</td>\n",
       "      <td>NaN</td>\n",
       "      <td>NaN</td>\n",
       "    </tr>\n",
       "    <tr>\n",
       "      <th>1</th>\n",
       "      <td>37.3776</td>\n",
       "      <td>-77.5082</td>\n",
       "      <td>37.37756,-77.50817</td>\n",
       "      <td>United States</td>\n",
       "      <td>Virginia</td>\n",
       "      <td>Chesterfield, VA, United States</td>\n",
       "      <td>0.61</td>\n",
       "      <td>NaN</td>\n",
       "      <td>1.0</td>\n",
       "      <td>NaN</td>\n",
       "      <td>1.0</td>\n",
       "      <td>NaN</td>\n",
       "      <td>NaN</td>\n",
       "      <td>1.0</td>\n",
       "      <td>NaN</td>\n",
       "    </tr>\n",
       "    <tr>\n",
       "      <th>2</th>\n",
       "      <td>29.9812</td>\n",
       "      <td>-81.6848</td>\n",
       "      <td>29.98119,-81.68482</td>\n",
       "      <td>United States</td>\n",
       "      <td>Florida</td>\n",
       "      <td>Green Cove Ave, Green Cove Springs, FL 32043, ...</td>\n",
       "      <td>0.57</td>\n",
       "      <td>NaN</td>\n",
       "      <td>1.0</td>\n",
       "      <td>NaN</td>\n",
       "      <td>NaN</td>\n",
       "      <td>0.90</td>\n",
       "      <td>NaN</td>\n",
       "      <td>1.0</td>\n",
       "      <td>NaN</td>\n",
       "    </tr>\n",
       "    <tr>\n",
       "      <th>3</th>\n",
       "      <td>40.8809</td>\n",
       "      <td>-73.3047</td>\n",
       "      <td>40.88085,-73.30473</td>\n",
       "      <td>United States</td>\n",
       "      <td>New York</td>\n",
       "      <td>8 N Honey Ln, East Northport, NY 11731, United...</td>\n",
       "      <td>0.77</td>\n",
       "      <td>NaN</td>\n",
       "      <td>1.0</td>\n",
       "      <td>NaN</td>\n",
       "      <td>1.0</td>\n",
       "      <td>0.64</td>\n",
       "      <td>1.0</td>\n",
       "      <td>1.0</td>\n",
       "      <td>NaN</td>\n",
       "    </tr>\n",
       "    <tr>\n",
       "      <th>4</th>\n",
       "      <td>40.7373</td>\n",
       "      <td>-74.0348</td>\n",
       "      <td>40.73733,-74.03481</td>\n",
       "      <td>United States</td>\n",
       "      <td>New Jersey</td>\n",
       "      <td>307 Newark St, Hoboken, NJ 07030-2407, United ...</td>\n",
       "      <td>0.56</td>\n",
       "      <td>NaN</td>\n",
       "      <td>NaN</td>\n",
       "      <td>NaN</td>\n",
       "      <td>1.0</td>\n",
       "      <td>NaN</td>\n",
       "      <td>1.0</td>\n",
       "      <td>1.0</td>\n",
       "      <td>NaN</td>\n",
       "    </tr>\n",
       "  </tbody>\n",
       "</table>\n",
       "</div>"
      ],
      "text/plain": [
       "       lat     long              string        country         state  \\\n",
       "0  40.1569 -74.8993    40.1569,-74.8993  United States  Pennsylvania   \n",
       "1  37.3776 -77.5082  37.37756,-77.50817  United States      Virginia   \n",
       "2  29.9812 -81.6848  29.98119,-81.68482  United States       Florida   \n",
       "3  40.8809 -73.3047  40.88085,-73.30473  United States      New York   \n",
       "4  40.7373 -74.0348  40.73733,-74.03481  United States    New Jersey   \n",
       "\n",
       "                                             address  relevance  \\\n",
       "0  752 Durham Rd, Middletown Twp, PA 19047-5735, ...       0.72   \n",
       "1                    Chesterfield, VA, United States       0.61   \n",
       "2  Green Cove Ave, Green Cove Springs, FL 32043, ...       0.57   \n",
       "3  8 N Honey Ln, East Northport, NY 11731, United...       0.77   \n",
       "4  307 Newark St, Hoboken, NJ 07030-2407, United ...       0.56   \n",
       "\n",
       "   match_quality_country  match_quality_state  match_quality_district  \\\n",
       "0                    NaN                  NaN                     NaN   \n",
       "1                    NaN                  1.0                     NaN   \n",
       "2                    NaN                  1.0                     NaN   \n",
       "3                    NaN                  1.0                     NaN   \n",
       "4                    NaN                  NaN                     NaN   \n",
       "\n",
       "   match_quality_city  match_quality_street  match_quality_number  \\\n",
       "0                 0.9                  0.90                   1.0   \n",
       "1                 1.0                   NaN                   NaN   \n",
       "2                 NaN                  0.90                   NaN   \n",
       "3                 1.0                  0.64                   1.0   \n",
       "4                 1.0                   NaN                   1.0   \n",
       "\n",
       "   match_quality_postal_code  score  \n",
       "0                        NaN    NaN  \n",
       "1                        1.0    NaN  \n",
       "2                        1.0    NaN  \n",
       "3                        1.0    NaN  \n",
       "4                        1.0    NaN  "
      ]
     },
     "execution_count": 311,
     "metadata": {},
     "output_type": "execute_result"
    }
   ],
   "source": [
    "latlong_df = pd.DataFrame(addresses[\"Address\"].apply(lambda x: get_latlong(x, api_key)[0]).tolist())\n",
    "latlong_df = latlong_df.assign(original_address = addresses['Address'])\n",
    "latlong_df.to_csv(\"sample_output/latlong_addresses1.csv\") # Modify filepath as needed\n",
    "latlong_df.head()"
   ]
  },
  {
   "cell_type": "markdown",
   "metadata": {},
   "source": [
    "## Loading in a table of journeys (origin and destination) and calculating the distance and travel times"
   ]
  },
  {
   "cell_type": "code",
   "execution_count": 270,
   "metadata": {
    "ExecuteTime": {
     "end_time": "2020-10-25T23:45:03.777066Z",
     "start_time": "2020-10-25T23:45:03.762066Z"
    }
   },
   "outputs": [
    {
     "data": {
      "text/html": [
       "<div>\n",
       "<style scoped>\n",
       "    .dataframe tbody tr th:only-of-type {\n",
       "        vertical-align: middle;\n",
       "    }\n",
       "\n",
       "    .dataframe tbody tr th {\n",
       "        vertical-align: top;\n",
       "    }\n",
       "\n",
       "    .dataframe thead th {\n",
       "        text-align: right;\n",
       "    }\n",
       "</style>\n",
       "<table border=\"1\" class=\"dataframe\">\n",
       "  <thead>\n",
       "    <tr style=\"text-align: right;\">\n",
       "      <th></th>\n",
       "      <th>To</th>\n",
       "      <th>From</th>\n",
       "    </tr>\n",
       "  </thead>\n",
       "  <tbody>\n",
       "    <tr>\n",
       "      <th>0</th>\n",
       "      <td>43.09544,-89.51124</td>\n",
       "      <td>43.0531601250742,-88.9162154647741</td>\n",
       "    </tr>\n",
       "    <tr>\n",
       "      <th>1</th>\n",
       "      <td>37.45724,-77.52159</td>\n",
       "      <td>37.4394097828703,-77.1498761582039</td>\n",
       "    </tr>\n",
       "    <tr>\n",
       "      <th>2</th>\n",
       "      <td>29.99644,-81.68388</td>\n",
       "      <td>29.937590073003,-81.66891085631</td>\n",
       "    </tr>\n",
       "    <tr>\n",
       "      <th>3</th>\n",
       "      <td>40.87108,-73.32084</td>\n",
       "      <td>40.819746923309,-72.675857834121</td>\n",
       "    </tr>\n",
       "    <tr>\n",
       "      <th>4</th>\n",
       "      <td>40.74253,-74.03414</td>\n",
       "      <td>40.7257538018152,-73.1904199641081</td>\n",
       "    </tr>\n",
       "  </tbody>\n",
       "</table>\n",
       "</div>"
      ],
      "text/plain": [
       "                   To                                From\n",
       "0  43.09544,-89.51124  43.0531601250742,-88.9162154647741\n",
       "1  37.45724,-77.52159  37.4394097828703,-77.1498761582039\n",
       "2  29.99644,-81.68388     29.937590073003,-81.66891085631\n",
       "3  40.87108,-73.32084    40.819746923309,-72.675857834121\n",
       "4  40.74253,-74.03414  40.7257538018152,-73.1904199641081"
      ]
     },
     "execution_count": 270,
     "metadata": {},
     "output_type": "execute_result"
    }
   ],
   "source": [
    "latlongs = pd.read_csv(\"latlong1.csv\") # Modify filepath as needed\n",
    "latlongs.head()"
   ]
  },
  {
   "cell_type": "code",
   "execution_count": 278,
   "metadata": {
    "ExecuteTime": {
     "end_time": "2020-10-25T23:48:52.792255Z",
     "start_time": "2020-10-25T23:48:49.117165Z"
    },
    "scrolled": true
   },
   "outputs": [],
   "source": [
    "distances = pd.DataFrame(latlongs.apply(lambda x: get_driving_info(x['To'], x['From'], api_key),axis=1).tolist())\n",
    "distances['To'] = latlongs['To']\n",
    "distances['From'] = latlongs['From']"
   ]
  },
  {
   "cell_type": "code",
   "execution_count": 279,
   "metadata": {
    "ExecuteTime": {
     "end_time": "2020-10-25T23:48:54.574816Z",
     "start_time": "2020-10-25T23:48:54.555820Z"
    }
   },
   "outputs": [
    {
     "data": {
      "text/html": [
       "<div>\n",
       "<style scoped>\n",
       "    .dataframe tbody tr th:only-of-type {\n",
       "        vertical-align: middle;\n",
       "    }\n",
       "\n",
       "    .dataframe tbody tr th {\n",
       "        vertical-align: top;\n",
       "    }\n",
       "\n",
       "    .dataframe thead th {\n",
       "        text-align: right;\n",
       "    }\n",
       "</style>\n",
       "<table border=\"1\" class=\"dataframe\">\n",
       "  <thead>\n",
       "    <tr style=\"text-align: right;\">\n",
       "      <th></th>\n",
       "      <th>duration</th>\n",
       "      <th>length</th>\n",
       "      <th>baseDuration</th>\n",
       "      <th>To</th>\n",
       "      <th>From</th>\n",
       "    </tr>\n",
       "  </thead>\n",
       "  <tbody>\n",
       "    <tr>\n",
       "      <th>0</th>\n",
       "      <td>3083.0</td>\n",
       "      <td>38.830825</td>\n",
       "      <td>3031.0</td>\n",
       "      <td>43.09544,-89.51124</td>\n",
       "      <td>43.0531601250742,-88.9162154647741</td>\n",
       "    </tr>\n",
       "    <tr>\n",
       "      <th>1</th>\n",
       "      <td>2409.0</td>\n",
       "      <td>25.235190</td>\n",
       "      <td>2323.0</td>\n",
       "      <td>37.45724,-77.52159</td>\n",
       "      <td>37.4394097828703,-77.1498761582039</td>\n",
       "    </tr>\n",
       "    <tr>\n",
       "      <th>2</th>\n",
       "      <td>652.0</td>\n",
       "      <td>5.199647</td>\n",
       "      <td>617.0</td>\n",
       "      <td>29.99644,-81.68388</td>\n",
       "      <td>29.937590073003,-81.66891085631</td>\n",
       "    </tr>\n",
       "    <tr>\n",
       "      <th>3</th>\n",
       "      <td>3964.0</td>\n",
       "      <td>40.350081</td>\n",
       "      <td>3844.0</td>\n",
       "      <td>40.87108,-73.32084</td>\n",
       "      <td>40.819746923309,-72.675857834121</td>\n",
       "    </tr>\n",
       "    <tr>\n",
       "      <th>4</th>\n",
       "      <td>5832.0</td>\n",
       "      <td>55.217045</td>\n",
       "      <td>5316.0</td>\n",
       "      <td>40.74253,-74.03414</td>\n",
       "      <td>40.7257538018152,-73.1904199641081</td>\n",
       "    </tr>\n",
       "  </tbody>\n",
       "</table>\n",
       "</div>"
      ],
      "text/plain": [
       "   duration     length  baseDuration                  To  \\\n",
       "0    3083.0  38.830825        3031.0  43.09544,-89.51124   \n",
       "1    2409.0  25.235190        2323.0  37.45724,-77.52159   \n",
       "2     652.0   5.199647         617.0  29.99644,-81.68388   \n",
       "3    3964.0  40.350081        3844.0  40.87108,-73.32084   \n",
       "4    5832.0  55.217045        5316.0  40.74253,-74.03414   \n",
       "\n",
       "                                 From  \n",
       "0  43.0531601250742,-88.9162154647741  \n",
       "1  37.4394097828703,-77.1498761582039  \n",
       "2     29.937590073003,-81.66891085631  \n",
       "3    40.819746923309,-72.675857834121  \n",
       "4  40.7257538018152,-73.1904199641081  "
      ]
     },
     "execution_count": 279,
     "metadata": {},
     "output_type": "execute_result"
    }
   ],
   "source": [
    "distances.to_csv(\"distances_latlong1.csv\") # Modify filepath as needed\n",
    "distances.head()"
   ]
  },
  {
   "cell_type": "markdown",
   "metadata": {},
   "source": [
    "## Generating a list of potential journeys from a single list of addresses\n",
    "\n",
    "This uses the list from 4.1's output"
   ]
  },
  {
   "cell_type": "code",
   "execution_count": 289,
   "metadata": {
    "ExecuteTime": {
     "end_time": "2020-10-25T23:51:01.494973Z",
     "start_time": "2020-10-25T23:51:01.491974Z"
    }
   },
   "outputs": [],
   "source": [
    "latlong_list = latlong_df['string']"
   ]
  },
  {
   "cell_type": "code",
   "execution_count": 290,
   "metadata": {
    "ExecuteTime": {
     "end_time": "2020-10-25T23:51:01.824977Z",
     "start_time": "2020-10-25T23:51:01.788975Z"
    }
   },
   "outputs": [
    {
     "data": {
      "text/html": [
       "<div>\n",
       "<style scoped>\n",
       "    .dataframe tbody tr th:only-of-type {\n",
       "        vertical-align: middle;\n",
       "    }\n",
       "\n",
       "    .dataframe tbody tr th {\n",
       "        vertical-align: top;\n",
       "    }\n",
       "\n",
       "    .dataframe thead th {\n",
       "        text-align: right;\n",
       "    }\n",
       "</style>\n",
       "<table border=\"1\" class=\"dataframe\">\n",
       "  <thead>\n",
       "    <tr style=\"text-align: right;\">\n",
       "      <th></th>\n",
       "      <th>Input1</th>\n",
       "      <th>Input2</th>\n",
       "      <th>Index1</th>\n",
       "      <th>Index2</th>\n",
       "    </tr>\n",
       "  </thead>\n",
       "  <tbody>\n",
       "    <tr>\n",
       "      <th>0</th>\n",
       "      <td>43.09544,-89.51124</td>\n",
       "      <td>37.45724,-77.52159</td>\n",
       "      <td>0</td>\n",
       "      <td>1</td>\n",
       "    </tr>\n",
       "    <tr>\n",
       "      <th>1</th>\n",
       "      <td>43.09544,-89.51124</td>\n",
       "      <td>29.99644,-81.68388</td>\n",
       "      <td>0</td>\n",
       "      <td>2</td>\n",
       "    </tr>\n",
       "    <tr>\n",
       "      <th>2</th>\n",
       "      <td>43.09544,-89.51124</td>\n",
       "      <td>40.87108,-73.32084</td>\n",
       "      <td>0</td>\n",
       "      <td>3</td>\n",
       "    </tr>\n",
       "    <tr>\n",
       "      <th>3</th>\n",
       "      <td>43.09544,-89.51124</td>\n",
       "      <td>40.74253,-74.03414</td>\n",
       "      <td>0</td>\n",
       "      <td>4</td>\n",
       "    </tr>\n",
       "    <tr>\n",
       "      <th>4</th>\n",
       "      <td>43.09544,-89.51124</td>\n",
       "      <td>40.74666,-73.98016</td>\n",
       "      <td>0</td>\n",
       "      <td>5</td>\n",
       "    </tr>\n",
       "  </tbody>\n",
       "</table>\n",
       "</div>"
      ],
      "text/plain": [
       "               Input1              Input2  Index1  Index2\n",
       "0  43.09544,-89.51124  37.45724,-77.52159       0       1\n",
       "1  43.09544,-89.51124  29.99644,-81.68388       0       2\n",
       "2  43.09544,-89.51124  40.87108,-73.32084       0       3\n",
       "3  43.09544,-89.51124  40.74253,-74.03414       0       4\n",
       "4  43.09544,-89.51124  40.74666,-73.98016       0       5"
      ]
     },
     "execution_count": 290,
     "metadata": {},
     "output_type": "execute_result"
    }
   ],
   "source": [
    "pairwise = all_combinations(latlong_list)\n",
    "pairwise.head()"
   ]
  },
  {
   "cell_type": "code",
   "execution_count": 294,
   "metadata": {
    "ExecuteTime": {
     "end_time": "2020-10-25T23:56:00.652345Z",
     "start_time": "2020-10-25T23:55:40.828474Z"
    }
   },
   "outputs": [],
   "source": [
    "distances = pd.DataFrame(pairwise.apply(lambda x: get_driving_info(x['Input1'], x['Input2'], api_key),axis=1).tolist())\n",
    "distances['To'] = pairwise['Input1']\n",
    "distances['From'] = pairwise['Input2']"
   ]
  },
  {
   "cell_type": "code",
   "execution_count": 295,
   "metadata": {
    "ExecuteTime": {
     "end_time": "2020-10-25T23:56:04.093725Z",
     "start_time": "2020-10-25T23:56:04.067722Z"
    }
   },
   "outputs": [
    {
     "data": {
      "text/html": [
       "<div>\n",
       "<style scoped>\n",
       "    .dataframe tbody tr th:only-of-type {\n",
       "        vertical-align: middle;\n",
       "    }\n",
       "\n",
       "    .dataframe tbody tr th {\n",
       "        vertical-align: top;\n",
       "    }\n",
       "\n",
       "    .dataframe thead th {\n",
       "        text-align: right;\n",
       "    }\n",
       "</style>\n",
       "<table border=\"1\" class=\"dataframe\">\n",
       "  <thead>\n",
       "    <tr style=\"text-align: right;\">\n",
       "      <th></th>\n",
       "      <th>duration</th>\n",
       "      <th>length</th>\n",
       "      <th>baseDuration</th>\n",
       "      <th>To</th>\n",
       "      <th>From</th>\n",
       "    </tr>\n",
       "  </thead>\n",
       "  <tbody>\n",
       "    <tr>\n",
       "      <th>0</th>\n",
       "      <td>55937.0</td>\n",
       "      <td>960.954180</td>\n",
       "      <td>54343.0</td>\n",
       "      <td>43.09544,-89.51124</td>\n",
       "      <td>37.45724,-77.52159</td>\n",
       "    </tr>\n",
       "    <tr>\n",
       "      <th>1</th>\n",
       "      <td>67970.0</td>\n",
       "      <td>1239.959859</td>\n",
       "      <td>67549.0</td>\n",
       "      <td>43.09544,-89.51124</td>\n",
       "      <td>29.99644,-81.68388</td>\n",
       "    </tr>\n",
       "    <tr>\n",
       "      <th>2</th>\n",
       "      <td>57484.0</td>\n",
       "      <td>989.590764</td>\n",
       "      <td>56484.0</td>\n",
       "      <td>43.09544,-89.51124</td>\n",
       "      <td>40.87108,-73.32084</td>\n",
       "    </tr>\n",
       "    <tr>\n",
       "      <th>3</th>\n",
       "      <td>53690.0</td>\n",
       "      <td>942.997751</td>\n",
       "      <td>53086.0</td>\n",
       "      <td>43.09544,-89.51124</td>\n",
       "      <td>40.74253,-74.03414</td>\n",
       "    </tr>\n",
       "    <tr>\n",
       "      <th>4</th>\n",
       "      <td>54092.0</td>\n",
       "      <td>947.500839</td>\n",
       "      <td>53403.0</td>\n",
       "      <td>43.09544,-89.51124</td>\n",
       "      <td>40.74666,-73.98016</td>\n",
       "    </tr>\n",
       "  </tbody>\n",
       "</table>\n",
       "</div>"
      ],
      "text/plain": [
       "   duration       length  baseDuration                  To                From\n",
       "0   55937.0   960.954180       54343.0  43.09544,-89.51124  37.45724,-77.52159\n",
       "1   67970.0  1239.959859       67549.0  43.09544,-89.51124  29.99644,-81.68388\n",
       "2   57484.0   989.590764       56484.0  43.09544,-89.51124  40.87108,-73.32084\n",
       "3   53690.0   942.997751       53086.0  43.09544,-89.51124  40.74253,-74.03414\n",
       "4   54092.0   947.500839       53403.0  43.09544,-89.51124  40.74666,-73.98016"
      ]
     },
     "execution_count": 295,
     "metadata": {},
     "output_type": "execute_result"
    }
   ],
   "source": [
    "distances.to_csv(\"distances_latlong2.csv\") # Modify filepath as needed\n",
    "distances.head()"
   ]
  },
  {
   "cell_type": "markdown",
   "metadata": {},
   "source": [
    "# Examples with map images\n",
    "\n",
    "This section provides simple examples of using the HERE API:\n",
    "* Retrieve a map piece\n",
    "* Show map of a route\n",
    "* Show points of interest on a map piece\n",
    "\n",
    "Find more information at https://developer.here.com/documentation/map-image/dev_guide/topics/resources.html, with lots of examples here: https://developer.here.com/documentation/map-image/dev_guide/topics/examples.html "
   ]
  },
  {
   "cell_type": "markdown",
   "metadata": {},
   "source": [
    "## View a map piece surrounding a latitude and longitude\n",
    "\n"
   ]
  },
  {
   "cell_type": "code",
   "execution_count": 48,
   "metadata": {
    "ExecuteTime": {
     "end_time": "2020-11-12T18:15:58.656712Z",
     "start_time": "2020-11-12T18:15:58.640710Z"
    },
    "code_folding": [
     1
    ],
    "scrolled": true
   },
   "outputs": [],
   "source": [
    "# Retrieve a map image around a central coordinate\n",
    "def get_map_piece(latlong, api_key, rad=1000, output_folder=None, file_name = None):\n",
    "    \"\"\"\n",
    "    This pulls a rectangular image of a map around a central coordinate submitted in \"lat,long\" string format.\n",
    "    \n",
    "    rad refers to the minimum radius of the area in meters. 1609 meters in a mile. \n",
    "    output_folder is the name of the folder to export to. This folder must exist in advance. If None, will use the current folder that the notebook is using\n",
    "    file_name is the name of the .jpg file. If no name, it will just use the lat-long coordinate with radius\n",
    "    \n",
    "    \"\"\"\n",
    "\n",
    "    URL='https://image.maps.ls.hereapi.com/mia/1.6/mapview'\n",
    "    PARAMS={'apikey':api_key,'c': latlong, 'maxhits': 1, 'rad': rad}\n",
    "    r=requests.get(url=URL,params=PARAMS, verify=False)\n",
    "    \n",
    "    if r.status_code != 200:\n",
    "        return \"Failed\"\n",
    "\n",
    "    if file_name is None:\n",
    "        file_name = '{} rad_{}.jpg'.format(latlong, rad)\n",
    "    else:\n",
    "        if not file_name.endswith('.jpg'):\n",
    "            file_name = '{}.jpg'.format(file_name)\n",
    "    \n",
    "    if output_folder is not None:\n",
    "        if os.path.exists(output_folder): \n",
    "            output_file = os.path.join(output_folder, file_name)\n",
    "        else:\n",
    "            print(\"Specified folder does not exist, ignoring output_folder: {}\".format(output_folder))\n",
    "            output_file = file_name\n",
    "    else:\n",
    "        output_file = file_name\n",
    "    with open(output_file, 'wb') as f:\n",
    "        f.write(r.content)\n",
    "        print(\"File saved as {}\".format(output_file))\n",
    "        \n",
    "    return 'Success'"
   ]
  },
  {
   "cell_type": "code",
   "execution_count": 50,
   "metadata": {
    "ExecuteTime": {
     "end_time": "2020-11-12T18:16:05.458720Z",
     "start_time": "2020-11-12T18:16:05.162717Z"
    }
   },
   "outputs": [
    {
     "name": "stdout",
     "output_type": "stream",
     "text": [
      "File saved as 47.8,13.033 rad_500.jpg\n"
     ]
    },
    {
     "data": {
      "text/plain": [
       "'Success'"
      ]
     },
     "execution_count": 50,
     "metadata": {},
     "output_type": "execute_result"
    }
   ],
   "source": [
    "# Example\n",
    "get_map_piece(\"47.8,13.033\", api_key, rad=500, output_folder=\"sample_output\")"
   ]
  },
  {
   "cell_type": "markdown",
   "metadata": {},
   "source": [
    "## Show points-of-interest in map"
   ]
  },
  {
   "cell_type": "code",
   "execution_count": 57,
   "metadata": {
    "ExecuteTime": {
     "end_time": "2020-11-12T19:40:05.002878Z",
     "start_time": "2020-11-12T19:40:04.987830Z"
    },
    "code_folding": [
     1
    ]
   },
   "outputs": [],
   "source": [
    "# Retrieve a map image with markers for points of interests \n",
    "def show_poi(latlong_list, api_key, rad=1000, marker_color=\"0xBF0066AA\", marker_theme=1, \n",
    "             output_folder=None, file_name = None):\n",
    "    \"\"\"\n",
    "    This pulls a rectangular image of a map containing around a number of point of interests that are submitted in \"lat,long\" string format.\n",
    "    \n",
    "    rad refers to the radius of the area in meters. 1609 meters in a mile. \n",
    "    marker_color can be a string or in format such as 0xBF0066AA. This corresponds to the 'poifc' argument\n",
    "    market_theme can be 0 for bubble, 1 for pin, or 2 for HERE MAPS pin. This corresponds to the 'poithm' argument\n",
    "    \n",
    "    output_folder is the name of the folder to export to. This folder must exist in advance. If None, will use the current folder that the notebook is using\n",
    "    file_name is the name of the .jpg file. If no name, it will just use the first lat-long coordinate with radius\n",
    "    \n",
    "    \"\"\"\n",
    "\n",
    "    URL='https://image.maps.ls.hereapi.com/mia/1.6/mapview'\n",
    "    PARAMS={'apikey':api_key,'poi': \",\".join(latlong_list), 'maxhits': 1, 'rad': rad, \n",
    "            'poifc': marker_color, 'poithm': marker_theme}\n",
    "    r=requests.get(url=URL,params=PARAMS, verify=False)\n",
    "    \n",
    "    if r.status_code != 200:\n",
    "        return \"Failed\"\n",
    "    \n",
    "    if file_name is None:\n",
    "        file_name = '{} rad_{}.jpg'.format(latlong_list[0], rad)\n",
    "    else:\n",
    "        if not file_name.endswith('.jpg'):\n",
    "            file_name = '{}.jpg'.format(file_name)\n",
    "    \n",
    "    if output_folder is not None:\n",
    "        if os.path.exists(output_folder): \n",
    "            output_file = os.path.join(output_folder, file_name)\n",
    "        else:\n",
    "            print(\"Specified folder does not exist, ignoring output_folder: {}\".format(output_folder))\n",
    "            output_file = file_name\n",
    "    else:\n",
    "        output_file = file_name\n",
    "    with open(output_file, 'wb') as f:\n",
    "        f.write(r.content)\n",
    "        print(\"File saved as {}\".format(output_file))\n",
    "    \n",
    "    return \"Success\""
   ]
  },
  {
   "cell_type": "code",
   "execution_count": 58,
   "metadata": {
    "ExecuteTime": {
     "end_time": "2020-11-12T19:40:05.516864Z",
     "start_time": "2020-11-12T19:40:05.163381Z"
    },
    "code_folding": []
   },
   "outputs": [
    {
     "name": "stdout",
     "output_type": "stream",
     "text": [
      "File saved as 47.8,13.033 rad_500.jpg\n"
     ]
    },
    {
     "data": {
      "text/plain": [
       "'Success'"
      ]
     },
     "execution_count": 58,
     "metadata": {},
     "output_type": "execute_result"
    }
   ],
   "source": [
    "# Example\n",
    "show_poi([\"47.8,13.033\", \"47.81,13.033\", \"47.82,13.033\"], api_key, rad=500, output_folder = \"sample_output\")"
   ]
  },
  {
   "cell_type": "markdown",
   "metadata": {},
   "source": [
    "## Show a route in map"
   ]
  },
  {
   "cell_type": "code",
   "execution_count": 59,
   "metadata": {
    "ExecuteTime": {
     "end_time": "2020-11-12T19:40:16.899867Z",
     "start_time": "2020-11-12T19:40:16.886827Z"
    },
    "code_folding": [
     1
    ]
   },
   "outputs": [],
   "source": [
    "# Calculate route and show it on a map\n",
    "def calc_show_route(from_latlong, to_latlong, api_key, rad=1000, line_color='blue', line_width=4, \n",
    "             output_folder=None, file_name = None):\n",
    "    \"\"\"\n",
    "    This calculates a route between two points provided in latlong format, and generates a map showing the route \n",
    "    \n",
    "    rad refers to the radius of the area around the route in meters. 1609 meters in a mile. \n",
    "    line_color can be a string or in format such as 0xBF0066AA. This corresponds to the 'lc' argument\n",
    "    line_width should be an integer from 1 to 20. This corresponds to the 'lw' argument\n",
    "    \n",
    "    output_folder is the name of the folder to export to. This folder must exist in advance. If None, will use the current folder that the notebook is using\n",
    "    file_name is the name of the .jpg file. If no name, it will just use from_latlong and to_latlong\n",
    "    \n",
    "    \"\"\"\n",
    "\n",
    "    URL='https://image.maps.ls.hereapi.com/mia/1.6/routing'\n",
    "    PARAMS={'apikey':api_key, 'waypoint0': from_latlong, 'waypoint1': to_latlong, \n",
    "            'maxhits': 1, 'rad': rad, 'lc': line_color, 'lw': line_width}\n",
    "    r=requests.get(url=URL,params=PARAMS, verify=False)\n",
    "    \n",
    "    if r.status_code != 200:\n",
    "        return \"Failed\"\n",
    "    \n",
    "    if file_name is None:\n",
    "        file_name = '{} to {}.jpg'.format(from_latlong, to_latlong)\n",
    "    else:\n",
    "        if not file_name.endswith('.jpg'):\n",
    "            file_name = '{}.jpg'.format(file_name)\n",
    "    \n",
    "    if output_folder is not None:\n",
    "        if os.path.exists(output_folder): \n",
    "            output_file = os.path.join(output_folder, file_name)\n",
    "        else:\n",
    "            print(\"Specified folder does not exist, ignoring output_folder: {}\".format(output_folder))\n",
    "            output_file = file_name\n",
    "    else:\n",
    "        output_file = file_name\n",
    "    with open(output_file, 'wb') as f:\n",
    "        f.write(r.content)\n",
    "        print(\"File saved as {}\".format(output_file))\n",
    "    \n",
    "    return \"Success\""
   ]
  },
  {
   "cell_type": "code",
   "execution_count": 61,
   "metadata": {
    "ExecuteTime": {
     "end_time": "2020-11-12T19:51:32.051507Z",
     "start_time": "2020-11-12T19:51:31.640543Z"
    }
   },
   "outputs": [
    {
     "name": "stdout",
     "output_type": "stream",
     "text": [
      "File saved as 47.8,13.033 to 47.81,13.033.jpg\n"
     ]
    },
    {
     "data": {
      "text/plain": [
       "'Success'"
      ]
     },
     "execution_count": 61,
     "metadata": {},
     "output_type": "execute_result"
    }
   ],
   "source": [
    "# Example\n",
    "calc_show_route(\"47.8,13.033\", \"47.81,13.033\", api_key, rad=500, output_folder=\"sample_output\")"
   ]
  },
  {
   "cell_type": "markdown",
   "metadata": {},
   "source": [
    "# Attribution"
   ]
  },
  {
   "cell_type": "markdown",
   "metadata": {},
   "source": [
    "© 2021 Oliver Wyman © 2021 HERE"
   ]
  }
 ],
 "metadata": {
  "kernelspec": {
   "display_name": "Python 3 (ipykernel)",
   "language": "python",
   "name": "python3"
  },
  "language_info": {
   "codemirror_mode": {
    "name": "ipython",
    "version": 3
   },
   "file_extension": ".py",
   "mimetype": "text/x-python",
   "name": "python",
   "nbconvert_exporter": "python",
   "pygments_lexer": "ipython3",
   "version": "3.9.5"
  },
  "toc": {
   "base_numbering": 1,
   "nav_menu": {},
   "number_sections": true,
   "sideBar": true,
   "skip_h1_title": false,
   "title_cell": "Table of Contents",
   "title_sidebar": "Contents",
   "toc_cell": true,
   "toc_position": {
    "height": "calc(100% - 180px)",
    "left": "10px",
    "top": "150px",
    "width": "348px"
   },
   "toc_section_display": true,
   "toc_window_display": true
  }
 },
 "nbformat": 4,
 "nbformat_minor": 4
}
